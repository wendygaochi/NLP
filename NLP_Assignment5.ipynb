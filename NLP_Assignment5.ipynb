{
 "cells": [
  {
   "cell_type": "code",
   "execution_count": 34,
   "metadata": {
    "collapsed": true
   },
   "outputs": [],
   "source": [
    "import pandas as pd\n",
    "import nltk as nltk\n",
    "import nltk.corpus\n",
    "from nltk.text import Text\n",
    "from collections import Counter"
   ]
  },
  {
   "cell_type": "code",
   "execution_count": 2,
   "metadata": {
    "collapsed": true
   },
   "outputs": [],
   "source": [
    "news = pd.read_pickle('news_cat.pkl')"
   ]
  },
  {
   "cell_type": "code",
   "execution_count": 3,
   "metadata": {},
   "outputs": [
    {
     "data": {
      "text/html": [
       "<div>\n",
       "<style>\n",
       "    .dataframe thead tr:only-child th {\n",
       "        text-align: right;\n",
       "    }\n",
       "\n",
       "    .dataframe thead th {\n",
       "        text-align: left;\n",
       "    }\n",
       "\n",
       "    .dataframe tbody tr th {\n",
       "        vertical-align: top;\n",
       "    }\n",
       "</style>\n",
       "<table border=\"1\" class=\"dataframe\">\n",
       "  <thead>\n",
       "    <tr style=\"text-align: right;\">\n",
       "      <th></th>\n",
       "      <th>crawled</th>\n",
       "      <th>language</th>\n",
       "      <th>text</th>\n",
       "      <th>title</th>\n",
       "    </tr>\n",
       "  </thead>\n",
       "  <tbody>\n",
       "    <tr>\n",
       "      <th>0</th>\n",
       "      <td>2018-01-30T23:03:51.004+02:00</td>\n",
       "      <td>english</td>\n",
       "      <td>by Abhishek K Global Telehandler Market 2023 D...</td>\n",
       "      <td>Global Telehandler Market 2023 Demand by Segme...</td>\n",
       "    </tr>\n",
       "    <tr>\n",
       "      <th>1</th>\n",
       "      <td>2018-01-30T23:06:46.024+02:00</td>\n",
       "      <td>english</td>\n",
       "      <td>favorite this post 2014 Caterpillar 314E LCR h...</td>\n",
       "      <td>2014 Caterpillar 314E LCR</td>\n",
       "    </tr>\n",
       "    <tr>\n",
       "      <th>2</th>\n",
       "      <td>2018-01-30T23:18:35.023+02:00</td>\n",
       "      <td>english</td>\n",
       "      <td>By: MAX NISEN The Amazon health care threat ha...</td>\n",
       "      <td>Amazon, Berkshire, JPMorgan health announcemen...</td>\n",
       "    </tr>\n",
       "    <tr>\n",
       "      <th>3</th>\n",
       "      <td>2018-01-30T23:20:54.012+02:00</td>\n",
       "      <td>english</td>\n",
       "      <td>QR Code Link to This Post MONTHLY PUBLIC AUCTI...</td>\n",
       "      <td>2005 Caterpillar CB534D Tandem Vibratory Rolle...</td>\n",
       "    </tr>\n",
       "    <tr>\n",
       "      <th>4</th>\n",
       "      <td>2018-01-30T23:28:30.000+02:00</td>\n",
       "      <td>english</td>\n",
       "      <td>QR Code Link to This Post 2007 CATERPILLAR D4G...</td>\n",
       "      <td>2007 CATERPILLAR D4G LGP CAB SCREEN/SWEEPS - O...</td>\n",
       "    </tr>\n",
       "  </tbody>\n",
       "</table>\n",
       "</div>"
      ],
      "text/plain": [
       "                         crawled language  \\\n",
       "0  2018-01-30T23:03:51.004+02:00  english   \n",
       "1  2018-01-30T23:06:46.024+02:00  english   \n",
       "2  2018-01-30T23:18:35.023+02:00  english   \n",
       "3  2018-01-30T23:20:54.012+02:00  english   \n",
       "4  2018-01-30T23:28:30.000+02:00  english   \n",
       "\n",
       "                                                text  \\\n",
       "0  by Abhishek K Global Telehandler Market 2023 D...   \n",
       "1  favorite this post 2014 Caterpillar 314E LCR h...   \n",
       "2  By: MAX NISEN The Amazon health care threat ha...   \n",
       "3  QR Code Link to This Post MONTHLY PUBLIC AUCTI...   \n",
       "4  QR Code Link to This Post 2007 CATERPILLAR D4G...   \n",
       "\n",
       "                                               title  \n",
       "0  Global Telehandler Market 2023 Demand by Segme...  \n",
       "1                          2014 Caterpillar 314E LCR  \n",
       "2  Amazon, Berkshire, JPMorgan health announcemen...  \n",
       "3  2005 Caterpillar CB534D Tandem Vibratory Rolle...  \n",
       "4  2007 CATERPILLAR D4G LGP CAB SCREEN/SWEEPS - O...  "
      ]
     },
     "execution_count": 3,
     "metadata": {},
     "output_type": "execute_result"
    }
   ],
   "source": [
    "news.head()"
   ]
  },
  {
   "cell_type": "code",
   "execution_count": 15,
   "metadata": {},
   "outputs": [
    {
     "data": {
      "text/html": [
       "<div>\n",
       "<style>\n",
       "    .dataframe thead tr:only-child th {\n",
       "        text-align: right;\n",
       "    }\n",
       "\n",
       "    .dataframe thead th {\n",
       "        text-align: left;\n",
       "    }\n",
       "\n",
       "    .dataframe tbody tr th {\n",
       "        vertical-align: top;\n",
       "    }\n",
       "</style>\n",
       "<table border=\"1\" class=\"dataframe\">\n",
       "  <thead>\n",
       "    <tr style=\"text-align: right;\">\n",
       "      <th></th>\n",
       "      <th>crawled</th>\n",
       "      <th>language</th>\n",
       "      <th>text</th>\n",
       "      <th>title</th>\n",
       "    </tr>\n",
       "  </thead>\n",
       "  <tbody>\n",
       "    <tr>\n",
       "      <th>1</th>\n",
       "      <td>2018-01-30T23:06:46.024+02:00</td>\n",
       "      <td>english</td>\n",
       "      <td>favorite this post 2014 Caterpillar 314E LCR h...</td>\n",
       "      <td>2014 Caterpillar 314E LCR</td>\n",
       "    </tr>\n",
       "    <tr>\n",
       "      <th>3</th>\n",
       "      <td>2018-01-30T23:20:54.012+02:00</td>\n",
       "      <td>english</td>\n",
       "      <td>QR Code Link to This Post MONTHLY PUBLIC AUCTI...</td>\n",
       "      <td>2005 Caterpillar CB534D Tandem Vibratory Rolle...</td>\n",
       "    </tr>\n",
       "    <tr>\n",
       "      <th>5</th>\n",
       "      <td>2018-01-30T23:33:58.023+02:00</td>\n",
       "      <td>english</td>\n",
       "      <td>Elite Wealth Management Inc. Acquires Shares o...</td>\n",
       "      <td>Elite Wealth Management Inc. Acquires Shares o...</td>\n",
       "    </tr>\n",
       "    <tr>\n",
       "      <th>11</th>\n",
       "      <td>2018-01-31T01:52:38.000+02:00</td>\n",
       "      <td>english</td>\n",
       "      <td>Top Stock Picks for the Week of Jan 29, 2018 (...</td>\n",
       "      <td>Somewhat Favorable News Coverage Somewhat Unli...</td>\n",
       "    </tr>\n",
       "    <tr>\n",
       "      <th>14</th>\n",
       "      <td>2018-01-31T02:42:54.001+02:00</td>\n",
       "      <td>english</td>\n",
       "      <td>Caterpillar Marine announces open order board ...</td>\n",
       "      <td>Caterpillar Marine announces open order board ...</td>\n",
       "    </tr>\n",
       "  </tbody>\n",
       "</table>\n",
       "</div>"
      ],
      "text/plain": [
       "                          crawled language  \\\n",
       "1   2018-01-30T23:06:46.024+02:00  english   \n",
       "3   2018-01-30T23:20:54.012+02:00  english   \n",
       "5   2018-01-30T23:33:58.023+02:00  english   \n",
       "11  2018-01-31T01:52:38.000+02:00  english   \n",
       "14  2018-01-31T02:42:54.001+02:00  english   \n",
       "\n",
       "                                                 text  \\\n",
       "1   favorite this post 2014 Caterpillar 314E LCR h...   \n",
       "3   QR Code Link to This Post MONTHLY PUBLIC AUCTI...   \n",
       "5   Elite Wealth Management Inc. Acquires Shares o...   \n",
       "11  Top Stock Picks for the Week of Jan 29, 2018 (...   \n",
       "14  Caterpillar Marine announces open order board ...   \n",
       "\n",
       "                                                title  \n",
       "1                           2014 Caterpillar 314E LCR  \n",
       "3   2005 Caterpillar CB534D Tandem Vibratory Rolle...  \n",
       "5   Elite Wealth Management Inc. Acquires Shares o...  \n",
       "11  Somewhat Favorable News Coverage Somewhat Unli...  \n",
       "14  Caterpillar Marine announces open order board ...  "
      ]
     },
     "execution_count": 15,
     "metadata": {},
     "output_type": "execute_result"
    }
   ],
   "source": [
    "# Discard non-English results\n",
    "news_cat = news[(news.language == 'english')]\n",
    "                      \n",
    "# news mentioned Caterpillar \n",
    "news_cat = news_cat[(news_cat.text.str.contains('Caterpillar'))\\\n",
    "                    & (news_cat.title.str.contains('Caterpillar'))]\n",
    "news_cat.head()"
   ]
  },
  {
   "cell_type": "code",
   "execution_count": 5,
   "metadata": {
    "collapsed": true
   },
   "outputs": [],
   "source": [
    "def clean_text(text,isalpha = True):\n",
    "    # tokenize words\n",
    "    text_words = nltk.word_tokenize(text)\n",
    "    # keep words with length >2\n",
    "    words = [word for word in text_words if len(word) > 2]\n",
    "    if isalpha is True:\n",
    "        words = [word for word in words if word.isalpha()]\n",
    "    # remove Stop words\n",
    "    stopwords = set(nltk.corpus.stopwords.words('english'))\n",
    "    words = [word for word in words if word not in stopwords]\n",
    "    # Lemmation \n",
    "    wnl = nltk.WordNetLemmatizer()\n",
    "    words = [wnl.lemmatize(t) for t in words]\n",
    "    return \" \".join(words)"
   ]
  },
  {
   "cell_type": "markdown",
   "metadata": {},
   "source": [
    "### NE chunk with post tag word token"
   ]
  },
  {
   "cell_type": "code",
   "execution_count": 52,
   "metadata": {
    "collapsed": true
   },
   "outputs": [],
   "source": [
    "entities_num = Counter()\n",
    "for index in news_cat.index:\n",
    "    title = clean_text(news_cat.loc[index, 'title'],True)\n",
    "    text = clean_text(news_cat.loc[index, 'text'], True)\n",
    "    \n",
    "    for sent in nltk.sent_tokenize(title):\n",
    "        for chunk in nltk.ne_chunk(nltk.pos_tag(nltk.word_tokenize(sent)),binary = False):\n",
    "            if hasattr(chunk, 'label') and chunk.label()=='ORGANIZATION':\n",
    "                og_name = ' '.join(c[0] for c in chunk).upper() #Add space as between \n",
    "                if og_name.find('CATERPILLAR')<0: # exclude or_name with caterpillar\n",
    "                    entities_num[og_name] += 1\n",
    "                \n",
    "    for sent in nltk.sent_tokenize(text):\n",
    "        for chunk in nltk.ne_chunk(nltk.pos_tag(nltk.word_tokenize(sent)),binary = False):\n",
    "            if hasattr(chunk, 'label') and chunk.label()=='ORGANIZATION':\n",
    "                og_name = ' '.join(c[0] for c in chunk).upper() #Add space as between \n",
    "                if og_name.find('CATERPILLAR')<0:\n",
    "                    entities_num[og_name] += 1"
   ]
  },
  {
   "cell_type": "code",
   "execution_count": 90,
   "metadata": {
    "collapsed": true
   },
   "outputs": [],
   "source": [
    "%matplotlib inline\n",
    "import matplotlib.pyplot as plt\n",
    "import numpy as np\n",
    "plt.rcParams[\"figure.figsize\"] = (10,8)"
   ]
  },
  {
   "cell_type": "code",
   "execution_count": 91,
   "metadata": {},
   "outputs": [
    {
     "data": {
      "image/png": "[encoded data removed]",
      "text/plain": [
       "<matplotlib.figure.Figure at 0x1a268345c0>"
      ]
     },
     "metadata": {},
     "output_type": "display_data"
    }
   ],
   "source": [
    "sorted_indices = np.argsort(top_20['Frequency'])\n",
    "y_pos = range(len(top_20.Frequency))\n",
    "plt.barh(y_pos, top_20.Frequency[sorted_indices], align='center')\n",
    "plt.yticks(y_pos, top_20.Organization[sorted_indices])\n",
    "plt.show()"
   ]
  },
  {
   "cell_type": "code",
   "execution_count": null,
   "metadata": {
    "collapsed": true
   },
   "outputs": [],
   "source": []
  }
 ],
 "metadata": {
  "kernelspec": {
   "display_name": "Python 3",
   "language": "python",
   "name": "python3"
  },
  "language_info": {
   "codemirror_mode": {
    "name": "ipython",
    "version": 3
   },
   "file_extension": ".py",
   "mimetype": "text/x-python",
   "name": "python",
   "nbconvert_exporter": "python",
   "pygments_lexer": "ipython3",
   "version": "3.6.3"
  }
 },
 "nbformat": 4,
 "nbformat_minor": 2
}
