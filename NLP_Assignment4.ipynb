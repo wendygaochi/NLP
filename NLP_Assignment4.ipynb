{
 "cells": [
  {
   "cell_type": "code",
   "execution_count": 1,
   "metadata": {
    "collapsed": true
   },
   "outputs": [],
   "source": [
    "import re\n",
    "import pandas as pd\n",
    "import string\n",
    "import nltk\n",
    "import numpy as np\n",
    "from sklearn.model_selection import train_test_split\n",
    "from sklearn.feature_extraction.text import CountVectorizer, HashingVectorizer, TfidfTransformer, TfidfVectorizer\n",
    "from sklearn.naive_bayes import MultinomialNB\n",
    "from sklearn.metrics import classification_report, confusion_matrix, accuracy_score\n",
    "from sklearn.linear_model import LogisticRegression, SGDClassifier\n",
    "from sklearn import metrics"
   ]
  },
  {
   "cell_type": "code",
   "execution_count": 2,
   "metadata": {
    "collapsed": true
   },
   "outputs": [],
   "source": [
    "df_inspect = pd.read_csv(\"Food_Inspections.csv\")"
   ]
  },
  {
   "cell_type": "code",
   "execution_count": 3,
   "metadata": {},
   "outputs": [
    {
     "data": {
      "text/html": [
       "<div>\n",
       "<style>\n",
       "    .dataframe thead tr:only-child th {\n",
       "        text-align: right;\n",
       "    }\n",
       "\n",
       "    .dataframe thead th {\n",
       "        text-align: left;\n",
       "    }\n",
       "\n",
       "    .dataframe tbody tr th {\n",
       "        vertical-align: top;\n",
       "    }\n",
       "</style>\n",
       "<table border=\"1\" class=\"dataframe\">\n",
       "  <thead>\n",
       "    <tr style=\"text-align: right;\">\n",
       "      <th></th>\n",
       "      <th>Inspection ID</th>\n",
       "      <th>DBA Name</th>\n",
       "      <th>AKA Name</th>\n",
       "      <th>License #</th>\n",
       "      <th>Facility Type</th>\n",
       "      <th>Risk</th>\n",
       "      <th>Address</th>\n",
       "      <th>City</th>\n",
       "      <th>State</th>\n",
       "      <th>Zip</th>\n",
       "      <th>Inspection Date</th>\n",
       "      <th>Inspection Type</th>\n",
       "      <th>Results</th>\n",
       "      <th>Violations</th>\n",
       "      <th>Latitude</th>\n",
       "      <th>Longitude</th>\n",
       "      <th>Location</th>\n",
       "    </tr>\n",
       "  </thead>\n",
       "  <tbody>\n",
       "    <tr>\n",
       "      <th>0</th>\n",
       "      <td>2144506</td>\n",
       "      <td>CATALINA PIZZERIA</td>\n",
       "      <td>CATALINA PIZZERIA</td>\n",
       "      <td>2385764.0</td>\n",
       "      <td>Restaurant</td>\n",
       "      <td>Risk 1 (High)</td>\n",
       "      <td>5337 W BELMONT AVE</td>\n",
       "      <td>CHICAGO</td>\n",
       "      <td>IL</td>\n",
       "      <td>60641.0</td>\n",
       "      <td>02/02/2018</td>\n",
       "      <td>Canvass Re-Inspection</td>\n",
       "      <td>Pass</td>\n",
       "      <td>18. NO EVIDENCE OF RODENT OR INSECT OUTER OPEN...</td>\n",
       "      <td>41.938539</td>\n",
       "      <td>-87.760631</td>\n",
       "      <td>(41.9385394320182, -87.7606308007806)</td>\n",
       "    </tr>\n",
       "    <tr>\n",
       "      <th>1</th>\n",
       "      <td>2144504</td>\n",
       "      <td>TAQUERIA EL RANCHITO</td>\n",
       "      <td>TAQUERIA EL RANCHITO</td>\n",
       "      <td>60184.0</td>\n",
       "      <td>Restaurant</td>\n",
       "      <td>Risk 1 (High)</td>\n",
       "      <td>2829 N MILWAUKEE AVE</td>\n",
       "      <td>CHICAGO</td>\n",
       "      <td>IL</td>\n",
       "      <td>60618.0</td>\n",
       "      <td>02/02/2018</td>\n",
       "      <td>Canvass Re-Inspection</td>\n",
       "      <td>Pass</td>\n",
       "      <td>31. CLEAN MULTI-USE UTENSILS AND SINGLE SERVIC...</td>\n",
       "      <td>41.932657</td>\n",
       "      <td>-87.713056</td>\n",
       "      <td>(41.93265693660558, -87.71305610116421)</td>\n",
       "    </tr>\n",
       "    <tr>\n",
       "      <th>2</th>\n",
       "      <td>2144502</td>\n",
       "      <td>NEW LITTLE CHINA</td>\n",
       "      <td>NEW LITTLE CHINA</td>\n",
       "      <td>1844410.0</td>\n",
       "      <td>Restaurant</td>\n",
       "      <td>Risk 1 (High)</td>\n",
       "      <td>1737 E 95TH ST</td>\n",
       "      <td>CHICAGO</td>\n",
       "      <td>IL</td>\n",
       "      <td>60617.0</td>\n",
       "      <td>02/02/2018</td>\n",
       "      <td>Canvass</td>\n",
       "      <td>Pass</td>\n",
       "      <td>33. FOOD AND NON-FOOD CONTACT EQUIPMENT UTENSI...</td>\n",
       "      <td>41.722285</td>\n",
       "      <td>-87.581072</td>\n",
       "      <td>(41.72228503083544, -87.58107166595508)</td>\n",
       "    </tr>\n",
       "    <tr>\n",
       "      <th>3</th>\n",
       "      <td>2144496</td>\n",
       "      <td>GOLO</td>\n",
       "      <td>GOLO</td>\n",
       "      <td>1974172.0</td>\n",
       "      <td>Grocery Store</td>\n",
       "      <td>Risk 3 (Low)</td>\n",
       "      <td>10655 S HALSTED ST</td>\n",
       "      <td>CHICAGO</td>\n",
       "      <td>IL</td>\n",
       "      <td>60628.0</td>\n",
       "      <td>02/02/2018</td>\n",
       "      <td>Complaint</td>\n",
       "      <td>Pass</td>\n",
       "      <td>33. FOOD AND NON-FOOD CONTACT EQUIPMENT UTENSI...</td>\n",
       "      <td>41.699847</td>\n",
       "      <td>-87.642467</td>\n",
       "      <td>(41.699846928380765, -87.64246730125315)</td>\n",
       "    </tr>\n",
       "    <tr>\n",
       "      <th>5</th>\n",
       "      <td>2144494</td>\n",
       "      <td>DOMINO'S PIZZA</td>\n",
       "      <td>DOMINO'S PIZZA</td>\n",
       "      <td>35407.0</td>\n",
       "      <td>Restaurant</td>\n",
       "      <td>Risk 2 (Medium)</td>\n",
       "      <td>3144 W DEVON AVE</td>\n",
       "      <td>CHICAGO</td>\n",
       "      <td>IL</td>\n",
       "      <td>60659.0</td>\n",
       "      <td>02/02/2018</td>\n",
       "      <td>Suspected Food Poisoning</td>\n",
       "      <td>Pass w/ Conditions</td>\n",
       "      <td>16. FOOD PROTECTED DURING STORAGE, PREPARATION...</td>\n",
       "      <td>41.997510</td>\n",
       "      <td>-87.708716</td>\n",
       "      <td>(41.997509636592596, -87.70871560955086)</td>\n",
       "    </tr>\n",
       "  </tbody>\n",
       "</table>\n",
       "</div>"
      ],
      "text/plain": [
       "   Inspection ID              DBA Name              AKA Name  License #  \\\n",
       "0        2144506     CATALINA PIZZERIA     CATALINA PIZZERIA  2385764.0   \n",
       "1        2144504  TAQUERIA EL RANCHITO  TAQUERIA EL RANCHITO    60184.0   \n",
       "2        2144502      NEW LITTLE CHINA      NEW LITTLE CHINA  1844410.0   \n",
       "3        2144496                  GOLO                  GOLO  1974172.0   \n",
       "5        2144494        DOMINO'S PIZZA        DOMINO'S PIZZA    35407.0   \n",
       "\n",
       "   Facility Type             Risk                Address     City State  \\\n",
       "0     Restaurant    Risk 1 (High)    5337 W BELMONT AVE   CHICAGO    IL   \n",
       "1     Restaurant    Risk 1 (High)  2829 N MILWAUKEE AVE   CHICAGO    IL   \n",
       "2     Restaurant    Risk 1 (High)        1737 E 95TH ST   CHICAGO    IL   \n",
       "3  Grocery Store     Risk 3 (Low)    10655 S HALSTED ST   CHICAGO    IL   \n",
       "5     Restaurant  Risk 2 (Medium)      3144 W DEVON AVE   CHICAGO    IL   \n",
       "\n",
       "       Zip Inspection Date           Inspection Type             Results  \\\n",
       "0  60641.0      02/02/2018     Canvass Re-Inspection                Pass   \n",
       "1  60618.0      02/02/2018     Canvass Re-Inspection                Pass   \n",
       "2  60617.0      02/02/2018                   Canvass                Pass   \n",
       "3  60628.0      02/02/2018                 Complaint                Pass   \n",
       "5  60659.0      02/02/2018  Suspected Food Poisoning  Pass w/ Conditions   \n",
       "\n",
       "                                          Violations   Latitude  Longitude  \\\n",
       "0  18. NO EVIDENCE OF RODENT OR INSECT OUTER OPEN...  41.938539 -87.760631   \n",
       "1  31. CLEAN MULTI-USE UTENSILS AND SINGLE SERVIC...  41.932657 -87.713056   \n",
       "2  33. FOOD AND NON-FOOD CONTACT EQUIPMENT UTENSI...  41.722285 -87.581072   \n",
       "3  33. FOOD AND NON-FOOD CONTACT EQUIPMENT UTENSI...  41.699847 -87.642467   \n",
       "5  16. FOOD PROTECTED DURING STORAGE, PREPARATION...  41.997510 -87.708716   \n",
       "\n",
       "                                   Location  \n",
       "0     (41.9385394320182, -87.7606308007806)  \n",
       "1   (41.93265693660558, -87.71305610116421)  \n",
       "2   (41.72228503083544, -87.58107166595508)  \n",
       "3  (41.699846928380765, -87.64246730125315)  \n",
       "5  (41.997509636592596, -87.70871560955086)  "
      ]
     },
     "execution_count": 3,
     "metadata": {},
     "output_type": "execute_result"
    }
   ],
   "source": [
    "df_inspect = df_inspect.dropna()\n",
    "df_inspect.head()"
   ]
  },
  {
   "cell_type": "code",
   "execution_count": 4,
   "metadata": {},
   "outputs": [
    {
     "name": "stdout",
     "output_type": "stream",
     "text": [
      "<class 'pandas.core.frame.DataFrame'>\n",
      "Int64Index: 129519 entries, 0 to 164705\n",
      "Data columns (total 17 columns):\n",
      "Inspection ID      129519 non-null int64\n",
      "DBA Name           129519 non-null object\n",
      "AKA Name           129519 non-null object\n",
      "License #          129519 non-null float64\n",
      "Facility Type      129519 non-null object\n",
      "Risk               129519 non-null object\n",
      "Address            129519 non-null object\n",
      "City               129519 non-null object\n",
      "State              129519 non-null object\n",
      "Zip                129519 non-null float64\n",
      "Inspection Date    129519 non-null object\n",
      "Inspection Type    129519 non-null object\n",
      "Results            129519 non-null object\n",
      "Violations         129519 non-null object\n",
      "Latitude           129519 non-null float64\n",
      "Longitude          129519 non-null float64\n",
      "Location           129519 non-null object\n",
      "dtypes: float64(4), int64(1), object(12)\n",
      "memory usage: 17.8+ MB\n"
     ]
    }
   ],
   "source": [
    "df_inspect.info()"
   ]
  },
  {
   "cell_type": "code",
   "execution_count": 5,
   "metadata": {
    "collapsed": true
   },
   "outputs": [],
   "source": [
    "# convert label to a numerical variable\n",
    "df_inspect['Results_flag'] = df_inspect['Results'].map({'Fail':0, 'Pass':1, 'Out of Business':2,'Pass w/ Conditions':3})"
   ]
  },
  {
   "cell_type": "code",
   "execution_count": 6,
   "metadata": {},
   "outputs": [
    {
     "data": {
      "text/plain": [
       "0    1.0\n",
       "1    1.0\n",
       "2    1.0\n",
       "3    1.0\n",
       "5    3.0\n",
       "Name: Results_flag, dtype: float64"
      ]
     },
     "execution_count": 6,
     "metadata": {},
     "output_type": "execute_result"
    }
   ],
   "source": [
    "df_inspect['Results_flag'].head()"
   ]
  },
  {
   "cell_type": "code",
   "execution_count": 7,
   "metadata": {
    "collapsed": true
   },
   "outputs": [],
   "source": [
    "df_reason = df_inspect[['Violations','Results_flag']]"
   ]
  },
  {
   "cell_type": "code",
   "execution_count": 8,
   "metadata": {},
   "outputs": [
    {
     "data": {
      "text/html": [
       "<div>\n",
       "<style>\n",
       "    .dataframe thead tr:only-child th {\n",
       "        text-align: right;\n",
       "    }\n",
       "\n",
       "    .dataframe thead th {\n",
       "        text-align: left;\n",
       "    }\n",
       "\n",
       "    .dataframe tbody tr th {\n",
       "        vertical-align: top;\n",
       "    }\n",
       "</style>\n",
       "<table border=\"1\" class=\"dataframe\">\n",
       "  <thead>\n",
       "    <tr style=\"text-align: right;\">\n",
       "      <th></th>\n",
       "      <th>Violations</th>\n",
       "      <th>Results_flag</th>\n",
       "    </tr>\n",
       "  </thead>\n",
       "  <tbody>\n",
       "    <tr>\n",
       "      <th>0</th>\n",
       "      <td>18. NO EVIDENCE OF RODENT OR INSECT OUTER OPEN...</td>\n",
       "      <td>1.0</td>\n",
       "    </tr>\n",
       "    <tr>\n",
       "      <th>1</th>\n",
       "      <td>31. CLEAN MULTI-USE UTENSILS AND SINGLE SERVIC...</td>\n",
       "      <td>1.0</td>\n",
       "    </tr>\n",
       "    <tr>\n",
       "      <th>2</th>\n",
       "      <td>33. FOOD AND NON-FOOD CONTACT EQUIPMENT UTENSI...</td>\n",
       "      <td>1.0</td>\n",
       "    </tr>\n",
       "    <tr>\n",
       "      <th>3</th>\n",
       "      <td>33. FOOD AND NON-FOOD CONTACT EQUIPMENT UTENSI...</td>\n",
       "      <td>1.0</td>\n",
       "    </tr>\n",
       "    <tr>\n",
       "      <th>6</th>\n",
       "      <td>11. ADEQUATE NUMBER, CONVENIENT, ACCESSIBLE, D...</td>\n",
       "      <td>1.0</td>\n",
       "    </tr>\n",
       "    <tr>\n",
       "      <th>8</th>\n",
       "      <td>2. FACILITIES TO MAINTAIN PROPER TEMPERATURE -...</td>\n",
       "      <td>0.0</td>\n",
       "    </tr>\n",
       "  </tbody>\n",
       "</table>\n",
       "</div>"
      ],
      "text/plain": [
       "                                          Violations  Results_flag\n",
       "0  18. NO EVIDENCE OF RODENT OR INSECT OUTER OPEN...           1.0\n",
       "1  31. CLEAN MULTI-USE UTENSILS AND SINGLE SERVIC...           1.0\n",
       "2  33. FOOD AND NON-FOOD CONTACT EQUIPMENT UTENSI...           1.0\n",
       "3  33. FOOD AND NON-FOOD CONTACT EQUIPMENT UTENSI...           1.0\n",
       "6  11. ADEQUATE NUMBER, CONVENIENT, ACCESSIBLE, D...           1.0\n",
       "8  2. FACILITIES TO MAINTAIN PROPER TEMPERATURE -...           0.0"
      ]
     },
     "execution_count": 8,
     "metadata": {},
     "output_type": "execute_result"
    }
   ],
   "source": [
    "df_reason = df_reason.loc[df_reason['Results_flag'].isin([1,0])]\n",
    "df_reason.head(6)"
   ]
  },
  {
   "cell_type": "code",
   "execution_count": 9,
   "metadata": {
    "collapsed": true
   },
   "outputs": [],
   "source": [
    "def violation2comments(d):\n",
    "    comments = []\n",
    "    if not pd.isnull(d): # filter out nan in the series\n",
    "        items = d.split(' | ') # causes are separated by |\n",
    "        for text in items: # for each cause\n",
    "            if re.match(r'^[0-9]+\\.', text): # the cause must start with some numbers with a dot\n",
    "                comment = text.split(' - Comments:')[1] # keep the comments part in the cause\n",
    "                comment = re.sub(r'\\n\\w+ VIOLATION.*$', \" \", comment.strip())\n",
    "                comments.append(comment.strip())\n",
    "    return \" \".join(comments)"
   ]
  },
  {
   "cell_type": "code",
   "execution_count": 10,
   "metadata": {
    "collapsed": true
   },
   "outputs": [],
   "source": [
    "df_reason[\"Comments\"] = df_reason[\"Violations\"].map(violation2comments)"
   ]
  },
  {
   "cell_type": "code",
   "execution_count": 11,
   "metadata": {},
   "outputs": [
    {
     "data": {
      "text/html": [
       "<div>\n",
       "<style>\n",
       "    .dataframe thead tr:only-child th {\n",
       "        text-align: right;\n",
       "    }\n",
       "\n",
       "    .dataframe thead th {\n",
       "        text-align: left;\n",
       "    }\n",
       "\n",
       "    .dataframe tbody tr th {\n",
       "        vertical-align: top;\n",
       "    }\n",
       "</style>\n",
       "<table border=\"1\" class=\"dataframe\">\n",
       "  <thead>\n",
       "    <tr style=\"text-align: right;\">\n",
       "      <th></th>\n",
       "      <th>Comments</th>\n",
       "      <th>Results_flag</th>\n",
       "    </tr>\n",
       "  </thead>\n",
       "  <tbody>\n",
       "    <tr>\n",
       "      <th>0</th>\n",
       "      <td>CORRECTED (RODENT DROPPINGS HAS BEEN REMOVED)....</td>\n",
       "      <td>1.0</td>\n",
       "    </tr>\n",
       "    <tr>\n",
       "      <th>1</th>\n",
       "      <td>OBSERVED CUPS USED TO DISPENSE FOOD IN THE CON...</td>\n",
       "      <td>1.0</td>\n",
       "    </tr>\n",
       "    <tr>\n",
       "      <th>2</th>\n",
       "      <td>MUST CLEAN AND MAINTAIN THE FOLLOWING:  INTERI...</td>\n",
       "      <td>1.0</td>\n",
       "    </tr>\n",
       "    <tr>\n",
       "      <th>3</th>\n",
       "      <td>CLEAN INTERIOR AND EXTERIOR OF EXPOSED SINK, 3...</td>\n",
       "      <td>1.0</td>\n",
       "    </tr>\n",
       "    <tr>\n",
       "      <th>6</th>\n",
       "      <td>VIOLATION CORRECTED\\nEXPOSED HAND SINK INSTALL...</td>\n",
       "      <td>1.0</td>\n",
       "    </tr>\n",
       "  </tbody>\n",
       "</table>\n",
       "</div>"
      ],
      "text/plain": [
       "                                            Comments  Results_flag\n",
       "0  CORRECTED (RODENT DROPPINGS HAS BEEN REMOVED)....           1.0\n",
       "1  OBSERVED CUPS USED TO DISPENSE FOOD IN THE CON...           1.0\n",
       "2  MUST CLEAN AND MAINTAIN THE FOLLOWING:  INTERI...           1.0\n",
       "3  CLEAN INTERIOR AND EXTERIOR OF EXPOSED SINK, 3...           1.0\n",
       "6  VIOLATION CORRECTED\\nEXPOSED HAND SINK INSTALL...           1.0"
      ]
     },
     "execution_count": 11,
     "metadata": {},
     "output_type": "execute_result"
    }
   ],
   "source": [
    "df_comments = df_reason[['Comments','Results_flag']]\n",
    "df_comments.head()"
   ]
  },
  {
   "cell_type": "code",
   "execution_count": 12,
   "metadata": {},
   "outputs": [
    {
     "name": "stdout",
     "output_type": "stream",
     "text": [
      "(113824,)\n",
      "(113824,)\n"
     ]
    }
   ],
   "source": [
    "X = df_comments.Comments\n",
    "y = df_comments.Results_flag\n",
    "print(X.shape)\n",
    "print(y.shape)"
   ]
  },
  {
   "cell_type": "code",
   "execution_count": 13,
   "metadata": {},
   "outputs": [
    {
     "name": "stdout",
     "output_type": "stream",
     "text": [
      "(85368,)\n",
      "(28456,)\n",
      "(85368,)\n",
      "(28456,)\n"
     ]
    }
   ],
   "source": [
    "# split X and y into training and testing sets\n",
    "X_train, X_test, y_train, y_test = train_test_split(X, y, random_state=1)\n",
    "print(X_train.shape)\n",
    "print(X_test.shape)\n",
    "print(y_train.shape)\n",
    "print(y_test.shape)"
   ]
  },
  {
   "cell_type": "markdown",
   "metadata": {},
   "source": [
    "### Countvectorizer"
   ]
  },
  {
   "cell_type": "code",
   "execution_count": 80,
   "metadata": {},
   "outputs": [
    {
     "data": {
      "text/plain": [
       "(85368, 13643)"
      ]
     },
     "execution_count": 80,
     "metadata": {},
     "output_type": "execute_result"
    }
   ],
   "source": [
    "countvectorizer = CountVectorizer(stop_words='english',min_df=2,max_df=0.5)\n",
    "countvectorizer_matrix = countvectorizer.fit_transform(X_train)\n",
    "countvectorizer_matrix.shape"
   ]
  },
  {
   "cell_type": "code",
   "execution_count": 81,
   "metadata": {
    "collapsed": true
   },
   "outputs": [],
   "source": [
    "countvectorizer_matrix_df = pd.DataFrame(countvectorizer_matrix.toarray(), columns=countvectorizer.get_feature_names())"
   ]
  },
  {
   "cell_type": "code",
   "execution_count": 82,
   "metadata": {},
   "outputs": [
    {
     "data": {
      "text/html": [
       "<div>\n",
       "<style>\n",
       "    .dataframe thead tr:only-child th {\n",
       "        text-align: right;\n",
       "    }\n",
       "\n",
       "    .dataframe thead th {\n",
       "        text-align: left;\n",
       "    }\n",
       "\n",
       "    .dataframe tbody tr th {\n",
       "        vertical-align: top;\n",
       "    }\n",
       "</style>\n",
       "<table border=\"1\" class=\"dataframe\">\n",
       "  <thead>\n",
       "    <tr style=\"text-align: right;\">\n",
       "      <th></th>\n",
       "      <th>00</th>\n",
       "      <th>000</th>\n",
       "      <th>000362</th>\n",
       "      <th>0005</th>\n",
       "      <th>0005a</th>\n",
       "      <th>001</th>\n",
       "      <th>002</th>\n",
       "      <th>003</th>\n",
       "      <th>0030</th>\n",
       "      <th>003622</th>\n",
       "      <th>...</th>\n",
       "      <th>zebra</th>\n",
       "      <th>zero</th>\n",
       "      <th>zerox</th>\n",
       "      <th>zip</th>\n",
       "      <th>zipcode</th>\n",
       "      <th>ziploc</th>\n",
       "      <th>ziplock</th>\n",
       "      <th>zipping</th>\n",
       "      <th>zone</th>\n",
       "      <th>zucchini</th>\n",
       "    </tr>\n",
       "  </thead>\n",
       "  <tbody>\n",
       "    <tr>\n",
       "      <th>0</th>\n",
       "      <td>0</td>\n",
       "      <td>0</td>\n",
       "      <td>0</td>\n",
       "      <td>0</td>\n",
       "      <td>0</td>\n",
       "      <td>0</td>\n",
       "      <td>0</td>\n",
       "      <td>0</td>\n",
       "      <td>0</td>\n",
       "      <td>0</td>\n",
       "      <td>...</td>\n",
       "      <td>0</td>\n",
       "      <td>0</td>\n",
       "      <td>0</td>\n",
       "      <td>0</td>\n",
       "      <td>0</td>\n",
       "      <td>0</td>\n",
       "      <td>0</td>\n",
       "      <td>0</td>\n",
       "      <td>0</td>\n",
       "      <td>0</td>\n",
       "    </tr>\n",
       "    <tr>\n",
       "      <th>1</th>\n",
       "      <td>0</td>\n",
       "      <td>0</td>\n",
       "      <td>0</td>\n",
       "      <td>0</td>\n",
       "      <td>0</td>\n",
       "      <td>0</td>\n",
       "      <td>0</td>\n",
       "      <td>0</td>\n",
       "      <td>0</td>\n",
       "      <td>0</td>\n",
       "      <td>...</td>\n",
       "      <td>0</td>\n",
       "      <td>0</td>\n",
       "      <td>0</td>\n",
       "      <td>0</td>\n",
       "      <td>0</td>\n",
       "      <td>0</td>\n",
       "      <td>0</td>\n",
       "      <td>0</td>\n",
       "      <td>0</td>\n",
       "      <td>0</td>\n",
       "    </tr>\n",
       "    <tr>\n",
       "      <th>2</th>\n",
       "      <td>0</td>\n",
       "      <td>0</td>\n",
       "      <td>0</td>\n",
       "      <td>0</td>\n",
       "      <td>0</td>\n",
       "      <td>0</td>\n",
       "      <td>0</td>\n",
       "      <td>0</td>\n",
       "      <td>0</td>\n",
       "      <td>0</td>\n",
       "      <td>...</td>\n",
       "      <td>0</td>\n",
       "      <td>0</td>\n",
       "      <td>0</td>\n",
       "      <td>0</td>\n",
       "      <td>0</td>\n",
       "      <td>0</td>\n",
       "      <td>0</td>\n",
       "      <td>0</td>\n",
       "      <td>0</td>\n",
       "      <td>0</td>\n",
       "    </tr>\n",
       "    <tr>\n",
       "      <th>3</th>\n",
       "      <td>0</td>\n",
       "      <td>0</td>\n",
       "      <td>0</td>\n",
       "      <td>0</td>\n",
       "      <td>0</td>\n",
       "      <td>0</td>\n",
       "      <td>0</td>\n",
       "      <td>0</td>\n",
       "      <td>0</td>\n",
       "      <td>0</td>\n",
       "      <td>...</td>\n",
       "      <td>0</td>\n",
       "      <td>0</td>\n",
       "      <td>0</td>\n",
       "      <td>0</td>\n",
       "      <td>0</td>\n",
       "      <td>0</td>\n",
       "      <td>0</td>\n",
       "      <td>0</td>\n",
       "      <td>0</td>\n",
       "      <td>0</td>\n",
       "    </tr>\n",
       "    <tr>\n",
       "      <th>4</th>\n",
       "      <td>0</td>\n",
       "      <td>0</td>\n",
       "      <td>0</td>\n",
       "      <td>0</td>\n",
       "      <td>0</td>\n",
       "      <td>0</td>\n",
       "      <td>0</td>\n",
       "      <td>0</td>\n",
       "      <td>0</td>\n",
       "      <td>0</td>\n",
       "      <td>...</td>\n",
       "      <td>0</td>\n",
       "      <td>0</td>\n",
       "      <td>0</td>\n",
       "      <td>0</td>\n",
       "      <td>0</td>\n",
       "      <td>0</td>\n",
       "      <td>0</td>\n",
       "      <td>0</td>\n",
       "      <td>0</td>\n",
       "      <td>0</td>\n",
       "    </tr>\n",
       "  </tbody>\n",
       "</table>\n",
       "<p>5 rows × 13643 columns</p>\n",
       "</div>"
      ],
      "text/plain": [
       "   00  000  000362  0005  0005a  001  002  003  0030  003622    ...     zebra  \\\n",
       "0   0    0       0     0      0    0    0    0     0       0    ...         0   \n",
       "1   0    0       0     0      0    0    0    0     0       0    ...         0   \n",
       "2   0    0       0     0      0    0    0    0     0       0    ...         0   \n",
       "3   0    0       0     0      0    0    0    0     0       0    ...         0   \n",
       "4   0    0       0     0      0    0    0    0     0       0    ...         0   \n",
       "\n",
       "   zero  zerox  zip  zipcode  ziploc  ziplock  zipping  zone  zucchini  \n",
       "0     0      0    0        0       0        0        0     0         0  \n",
       "1     0      0    0        0       0        0        0     0         0  \n",
       "2     0      0    0        0       0        0        0     0         0  \n",
       "3     0      0    0        0       0        0        0     0         0  \n",
       "4     0      0    0        0       0        0        0     0         0  \n",
       "\n",
       "[5 rows x 13643 columns]"
      ]
     },
     "execution_count": 82,
     "metadata": {},
     "output_type": "execute_result"
    }
   ],
   "source": [
    "countvectorizer_matrix_df.head()"
   ]
  },
  {
   "cell_type": "code",
   "execution_count": 121,
   "metadata": {
    "collapsed": true
   },
   "outputs": [],
   "source": [
    "# valid_col = [col for col in countvectorizer_matrix_df.columns if not col.isdigit()]"
   ]
  },
  {
   "cell_type": "code",
   "execution_count": 83,
   "metadata": {
    "collapsed": true
   },
   "outputs": [],
   "source": [
    "# remove column names starting with digits\n",
    "my_list = countvectorizer_matrix_df.columns\n",
    "valid_col = [col for col in my_list if not any(c.isdigit() for c in col)]"
   ]
  },
  {
   "cell_type": "code",
   "execution_count": 84,
   "metadata": {
    "collapsed": true
   },
   "outputs": [],
   "source": [
    "# keep strings with length greater than three\n",
    "valid_col = [col for col in valid_col if len(col)>3]"
   ]
  },
  {
   "cell_type": "code",
   "execution_count": 85,
   "metadata": {},
   "outputs": [],
   "source": [
    "# Lemmation\n",
    "wnl = nltk.WordNetLemmatizer()\n",
    "valid_col = [wnl.lemmatize(col) for col in valid_col]"
   ]
  },
  {
   "cell_type": "code",
   "execution_count": 86,
   "metadata": {},
   "outputs": [
    {
     "data": {
      "text/plain": [
       "['area',\n",
       " 'basement',\n",
       " 'ceiling',\n",
       " 'clean',\n",
       " 'closet',\n",
       " 'coler',\n",
       " 'colers',\n",
       " 'compartment',\n",
       " 'container',\n",
       " 'cooler',\n",
       " 'equipment',\n",
       " 'evated',\n",
       " 'evating',\n",
       " 'fice',\n",
       " 'from',\n",
       " 'instructed',\n",
       " 'light',\n",
       " 'must',\n",
       " 'oler',\n",
       " 'ozing',\n",
       " 'prep',\n",
       " 'proper',\n",
       " 'provide',\n",
       " 'remove',\n",
       " 'rodent',\n",
       " 'rpair',\n",
       " 'sanitize',\n",
       " 'serious',\n",
       " 'service',\n",
       " 'sink',\n",
       " 'storage',\n",
       " 'throiughout',\n",
       " 'throughout',\n",
       " 'uper',\n",
       " 'used',\n",
       " 'violation']"
      ]
     },
     "execution_count": 86,
     "metadata": {},
     "output_type": "execute_result"
    }
   ],
   "source": [
    "valid_col = [x[1:] for x in valid_col if (x[0] == x[1] and len(x)>2)]\n",
    "valid_col = [col for col in valid_col if len(col)>3]\n",
    "valid_col"
   ]
  },
  {
   "cell_type": "code",
   "execution_count": 94,
   "metadata": {},
   "outputs": [],
   "source": [
    "X_train_clean = countvectorizer_matrix_df.loc[:,valid_col]"
   ]
  },
  {
   "cell_type": "code",
   "execution_count": 95,
   "metadata": {},
   "outputs": [
    {
     "data": {
      "text/html": [
       "<div>\n",
       "<style>\n",
       "    .dataframe thead tr:only-child th {\n",
       "        text-align: right;\n",
       "    }\n",
       "\n",
       "    .dataframe thead th {\n",
       "        text-align: left;\n",
       "    }\n",
       "\n",
       "    .dataframe tbody tr th {\n",
       "        vertical-align: top;\n",
       "    }\n",
       "</style>\n",
       "<table border=\"1\" class=\"dataframe\">\n",
       "  <thead>\n",
       "    <tr style=\"text-align: right;\">\n",
       "      <th></th>\n",
       "      <th>abated</th>\n",
       "      <th>accumuation</th>\n",
       "      <th>amir</th>\n",
       "      <th>area</th>\n",
       "      <th>aron</th>\n",
       "      <th>around</th>\n",
       "      <th>base</th>\n",
       "      <th>basement</th>\n",
       "      <th>basewall</th>\n",
       "      <th>bhind</th>\n",
       "      <th>...</th>\n",
       "      <th>violations</th>\n",
       "      <th>walk</th>\n",
       "      <th>washing</th>\n",
       "      <th>washrooms</th>\n",
       "      <th>west</th>\n",
       "      <th>with</th>\n",
       "      <th>without</th>\n",
       "      <th>witout</th>\n",
       "      <th>wlls</th>\n",
       "      <th>wshrooms</th>\n",
       "    </tr>\n",
       "  </thead>\n",
       "  <tbody>\n",
       "    <tr>\n",
       "      <th>0</th>\n",
       "      <td>0</td>\n",
       "      <td>0</td>\n",
       "      <td>0.0</td>\n",
       "      <td>1</td>\n",
       "      <td>0.0</td>\n",
       "      <td>0.0</td>\n",
       "      <td>0</td>\n",
       "      <td>0</td>\n",
       "      <td>0</td>\n",
       "      <td>0</td>\n",
       "      <td>...</td>\n",
       "      <td>0</td>\n",
       "      <td>2</td>\n",
       "      <td>0</td>\n",
       "      <td>0</td>\n",
       "      <td>0</td>\n",
       "      <td>0.0</td>\n",
       "      <td>0.0</td>\n",
       "      <td>0</td>\n",
       "      <td>0</td>\n",
       "      <td>0</td>\n",
       "    </tr>\n",
       "    <tr>\n",
       "      <th>1</th>\n",
       "      <td>0</td>\n",
       "      <td>0</td>\n",
       "      <td>0.0</td>\n",
       "      <td>4</td>\n",
       "      <td>0.0</td>\n",
       "      <td>0.0</td>\n",
       "      <td>0</td>\n",
       "      <td>0</td>\n",
       "      <td>0</td>\n",
       "      <td>0</td>\n",
       "      <td>...</td>\n",
       "      <td>0</td>\n",
       "      <td>0</td>\n",
       "      <td>0</td>\n",
       "      <td>0</td>\n",
       "      <td>0</td>\n",
       "      <td>0.0</td>\n",
       "      <td>0.0</td>\n",
       "      <td>0</td>\n",
       "      <td>0</td>\n",
       "      <td>0</td>\n",
       "    </tr>\n",
       "    <tr>\n",
       "      <th>2</th>\n",
       "      <td>0</td>\n",
       "      <td>0</td>\n",
       "      <td>0.0</td>\n",
       "      <td>0</td>\n",
       "      <td>0.0</td>\n",
       "      <td>0.0</td>\n",
       "      <td>0</td>\n",
       "      <td>0</td>\n",
       "      <td>0</td>\n",
       "      <td>0</td>\n",
       "      <td>...</td>\n",
       "      <td>0</td>\n",
       "      <td>1</td>\n",
       "      <td>0</td>\n",
       "      <td>0</td>\n",
       "      <td>0</td>\n",
       "      <td>0.0</td>\n",
       "      <td>0.0</td>\n",
       "      <td>0</td>\n",
       "      <td>0</td>\n",
       "      <td>0</td>\n",
       "    </tr>\n",
       "    <tr>\n",
       "      <th>3</th>\n",
       "      <td>0</td>\n",
       "      <td>0</td>\n",
       "      <td>0.0</td>\n",
       "      <td>2</td>\n",
       "      <td>0.0</td>\n",
       "      <td>0.0</td>\n",
       "      <td>0</td>\n",
       "      <td>0</td>\n",
       "      <td>0</td>\n",
       "      <td>0</td>\n",
       "      <td>...</td>\n",
       "      <td>0</td>\n",
       "      <td>0</td>\n",
       "      <td>0</td>\n",
       "      <td>0</td>\n",
       "      <td>0</td>\n",
       "      <td>0.0</td>\n",
       "      <td>0.0</td>\n",
       "      <td>0</td>\n",
       "      <td>0</td>\n",
       "      <td>0</td>\n",
       "    </tr>\n",
       "    <tr>\n",
       "      <th>4</th>\n",
       "      <td>0</td>\n",
       "      <td>0</td>\n",
       "      <td>0.0</td>\n",
       "      <td>1</td>\n",
       "      <td>0.0</td>\n",
       "      <td>0.0</td>\n",
       "      <td>0</td>\n",
       "      <td>0</td>\n",
       "      <td>0</td>\n",
       "      <td>0</td>\n",
       "      <td>...</td>\n",
       "      <td>0</td>\n",
       "      <td>0</td>\n",
       "      <td>0</td>\n",
       "      <td>0</td>\n",
       "      <td>0</td>\n",
       "      <td>0.0</td>\n",
       "      <td>0.0</td>\n",
       "      <td>0</td>\n",
       "      <td>0</td>\n",
       "      <td>0</td>\n",
       "    </tr>\n",
       "  </tbody>\n",
       "</table>\n",
       "<p>5 rows × 136 columns</p>\n",
       "</div>"
      ],
      "text/plain": [
       "   abated  accumuation  amir  area  aron  around  base  basement  basewall  \\\n",
       "0       0            0   0.0     1   0.0     0.0     0         0         0   \n",
       "1       0            0   0.0     4   0.0     0.0     0         0         0   \n",
       "2       0            0   0.0     0   0.0     0.0     0         0         0   \n",
       "3       0            0   0.0     2   0.0     0.0     0         0         0   \n",
       "4       0            0   0.0     1   0.0     0.0     0         0         0   \n",
       "\n",
       "   bhind    ...     violations  walk  washing  washrooms  west  with  without  \\\n",
       "0      0    ...              0     2        0          0     0   0.0      0.0   \n",
       "1      0    ...              0     0        0          0     0   0.0      0.0   \n",
       "2      0    ...              0     1        0          0     0   0.0      0.0   \n",
       "3      0    ...              0     0        0          0     0   0.0      0.0   \n",
       "4      0    ...              0     0        0          0     0   0.0      0.0   \n",
       "\n",
       "   witout  wlls  wshrooms  \n",
       "0       0     0         0  \n",
       "1       0     0         0  \n",
       "2       0     0         0  \n",
       "3       0     0         0  \n",
       "4       0     0         0  \n",
       "\n",
       "[5 rows x 136 columns]"
      ]
     },
     "execution_count": 95,
     "metadata": {},
     "output_type": "execute_result"
    }
   ],
   "source": [
    "X_train_clean = clean_col.fillna(0)\n",
    "X_train_clean.head()"
   ]
  },
  {
   "cell_type": "code",
   "execution_count": 91,
   "metadata": {},
   "outputs": [],
   "source": [
    "# transform testing data (using fitted vocabulary) into a document-term matrix\n",
    "X_test_dtm = countvectorizer.transform(X_test)\n",
    "X_test_dtm = pd.DataFrame(X_test_dtm.toarray(), columns=countvectorizer.get_feature_names())\n",
    "X_test_clean = X_test_dtm.loc[:,x_train_clean.columns]"
   ]
  },
  {
   "cell_type": "code",
   "execution_count": 93,
   "metadata": {},
   "outputs": [
    {
     "data": {
      "text/html": [
       "<div>\n",
       "<style>\n",
       "    .dataframe thead tr:only-child th {\n",
       "        text-align: right;\n",
       "    }\n",
       "\n",
       "    .dataframe thead th {\n",
       "        text-align: left;\n",
       "    }\n",
       "\n",
       "    .dataframe tbody tr th {\n",
       "        vertical-align: top;\n",
       "    }\n",
       "</style>\n",
       "<table border=\"1\" class=\"dataframe\">\n",
       "  <thead>\n",
       "    <tr style=\"text-align: right;\">\n",
       "      <th></th>\n",
       "      <th>abated</th>\n",
       "      <th>accumuation</th>\n",
       "      <th>amir</th>\n",
       "      <th>area</th>\n",
       "      <th>aron</th>\n",
       "      <th>around</th>\n",
       "      <th>base</th>\n",
       "      <th>basement</th>\n",
       "      <th>basewall</th>\n",
       "      <th>bhind</th>\n",
       "      <th>...</th>\n",
       "      <th>violations</th>\n",
       "      <th>walk</th>\n",
       "      <th>washing</th>\n",
       "      <th>washrooms</th>\n",
       "      <th>west</th>\n",
       "      <th>with</th>\n",
       "      <th>without</th>\n",
       "      <th>witout</th>\n",
       "      <th>wlls</th>\n",
       "      <th>wshrooms</th>\n",
       "    </tr>\n",
       "  </thead>\n",
       "  <tbody>\n",
       "    <tr>\n",
       "      <th>0</th>\n",
       "      <td>0</td>\n",
       "      <td>0</td>\n",
       "      <td>0.0</td>\n",
       "      <td>0.0</td>\n",
       "      <td>0.0</td>\n",
       "      <td>0.0</td>\n",
       "      <td>0</td>\n",
       "      <td>1</td>\n",
       "      <td>0</td>\n",
       "      <td>0</td>\n",
       "      <td>...</td>\n",
       "      <td>0</td>\n",
       "      <td>2</td>\n",
       "      <td>0</td>\n",
       "      <td>0</td>\n",
       "      <td>0</td>\n",
       "      <td>0.0</td>\n",
       "      <td>0.0</td>\n",
       "      <td>0</td>\n",
       "      <td>0</td>\n",
       "      <td>0.0</td>\n",
       "    </tr>\n",
       "    <tr>\n",
       "      <th>1</th>\n",
       "      <td>0</td>\n",
       "      <td>0</td>\n",
       "      <td>0.0</td>\n",
       "      <td>0.0</td>\n",
       "      <td>0.0</td>\n",
       "      <td>0.0</td>\n",
       "      <td>0</td>\n",
       "      <td>0</td>\n",
       "      <td>0</td>\n",
       "      <td>0</td>\n",
       "      <td>...</td>\n",
       "      <td>0</td>\n",
       "      <td>0</td>\n",
       "      <td>0</td>\n",
       "      <td>0</td>\n",
       "      <td>0</td>\n",
       "      <td>0.0</td>\n",
       "      <td>0.0</td>\n",
       "      <td>0</td>\n",
       "      <td>0</td>\n",
       "      <td>0.0</td>\n",
       "    </tr>\n",
       "    <tr>\n",
       "      <th>2</th>\n",
       "      <td>0</td>\n",
       "      <td>0</td>\n",
       "      <td>0.0</td>\n",
       "      <td>0.0</td>\n",
       "      <td>0.0</td>\n",
       "      <td>0.0</td>\n",
       "      <td>0</td>\n",
       "      <td>3</td>\n",
       "      <td>0</td>\n",
       "      <td>0</td>\n",
       "      <td>...</td>\n",
       "      <td>0</td>\n",
       "      <td>0</td>\n",
       "      <td>0</td>\n",
       "      <td>0</td>\n",
       "      <td>1</td>\n",
       "      <td>0.0</td>\n",
       "      <td>0.0</td>\n",
       "      <td>0</td>\n",
       "      <td>0</td>\n",
       "      <td>0.0</td>\n",
       "    </tr>\n",
       "    <tr>\n",
       "      <th>3</th>\n",
       "      <td>0</td>\n",
       "      <td>0</td>\n",
       "      <td>0.0</td>\n",
       "      <td>0.0</td>\n",
       "      <td>0.0</td>\n",
       "      <td>0.0</td>\n",
       "      <td>0</td>\n",
       "      <td>0</td>\n",
       "      <td>0</td>\n",
       "      <td>0</td>\n",
       "      <td>...</td>\n",
       "      <td>0</td>\n",
       "      <td>0</td>\n",
       "      <td>0</td>\n",
       "      <td>0</td>\n",
       "      <td>0</td>\n",
       "      <td>0.0</td>\n",
       "      <td>0.0</td>\n",
       "      <td>0</td>\n",
       "      <td>0</td>\n",
       "      <td>0.0</td>\n",
       "    </tr>\n",
       "    <tr>\n",
       "      <th>4</th>\n",
       "      <td>0</td>\n",
       "      <td>0</td>\n",
       "      <td>0.0</td>\n",
       "      <td>0.0</td>\n",
       "      <td>0.0</td>\n",
       "      <td>0.0</td>\n",
       "      <td>0</td>\n",
       "      <td>0</td>\n",
       "      <td>0</td>\n",
       "      <td>0</td>\n",
       "      <td>...</td>\n",
       "      <td>0</td>\n",
       "      <td>1</td>\n",
       "      <td>3</td>\n",
       "      <td>1</td>\n",
       "      <td>0</td>\n",
       "      <td>0.0</td>\n",
       "      <td>0.0</td>\n",
       "      <td>0</td>\n",
       "      <td>0</td>\n",
       "      <td>0.0</td>\n",
       "    </tr>\n",
       "  </tbody>\n",
       "</table>\n",
       "<p>5 rows × 136 columns</p>\n",
       "</div>"
      ],
      "text/plain": [
       "   abated  accumuation  amir  area  aron  around  base  basement  basewall  \\\n",
       "0       0            0   0.0   0.0   0.0     0.0     0         1         0   \n",
       "1       0            0   0.0   0.0   0.0     0.0     0         0         0   \n",
       "2       0            0   0.0   0.0   0.0     0.0     0         3         0   \n",
       "3       0            0   0.0   0.0   0.0     0.0     0         0         0   \n",
       "4       0            0   0.0   0.0   0.0     0.0     0         0         0   \n",
       "\n",
       "   bhind    ...     violations  walk  washing  washrooms  west  with  without  \\\n",
       "0      0    ...              0     2        0          0     0   0.0      0.0   \n",
       "1      0    ...              0     0        0          0     0   0.0      0.0   \n",
       "2      0    ...              0     0        0          0     1   0.0      0.0   \n",
       "3      0    ...              0     0        0          0     0   0.0      0.0   \n",
       "4      0    ...              0     1        3          1     0   0.0      0.0   \n",
       "\n",
       "   witout  wlls  wshrooms  \n",
       "0       0     0       0.0  \n",
       "1       0     0       0.0  \n",
       "2       0     0       0.0  \n",
       "3       0     0       0.0  \n",
       "4       0     0       0.0  \n",
       "\n",
       "[5 rows x 136 columns]"
      ]
     },
     "execution_count": 93,
     "metadata": {},
     "output_type": "execute_result"
    }
   ],
   "source": [
    "X_test_clean = X_test_clean.fillna(0)\n",
    "X_test_clean.head()"
   ]
  },
  {
   "cell_type": "markdown",
   "metadata": {},
   "source": [
    "### Logistic Regression"
   ]
  },
  {
   "cell_type": "code",
   "execution_count": 96,
   "metadata": {
    "collapsed": true
   },
   "outputs": [],
   "source": [
    "# instantiate a logistic regression model\n",
    "logreg = LogisticRegression()"
   ]
  },
  {
   "cell_type": "code",
   "execution_count": 97,
   "metadata": {},
   "outputs": [
    {
     "name": "stdout",
     "output_type": "stream",
     "text": [
      "CPU times: user 3.21 s, sys: 457 ms, total: 3.67 s\n",
      "Wall time: 4.25 s\n"
     ]
    },
    {
     "data": {
      "text/plain": [
       "LogisticRegression(C=1.0, class_weight=None, dual=False, fit_intercept=True,\n",
       "          intercept_scaling=1, max_iter=100, multi_class='ovr', n_jobs=1,\n",
       "          penalty='l2', random_state=None, solver='liblinear', tol=0.0001,\n",
       "          verbose=0, warm_start=False)"
      ]
     },
     "execution_count": 97,
     "metadata": {},
     "output_type": "execute_result"
    }
   ],
   "source": [
    "# train the model using X_train_dtm\n",
    "%time logreg.fit(X_train_clean, y_train)"
   ]
  },
  {
   "cell_type": "code",
   "execution_count": 98,
   "metadata": {
    "collapsed": true
   },
   "outputs": [],
   "source": [
    "# make class predictions for X_test_dtm\n",
    "y_pred_class = logreg.predict(X_test_clean)"
   ]
  },
  {
   "cell_type": "code",
   "execution_count": 99,
   "metadata": {},
   "outputs": [
    {
     "name": "stdout",
     "output_type": "stream",
     "text": [
      "0.875527129604\n"
     ]
    }
   ],
   "source": [
    "# calculate accuracy of class predictions\n",
    "print(metrics.accuracy_score(y_test, y_pred_class))"
   ]
  },
  {
   "cell_type": "code",
   "execution_count": 100,
   "metadata": {},
   "outputs": [
    {
     "name": "stdout",
     "output_type": "stream",
     "text": [
      "             precision    recall  f1-score   support\n",
      "\n",
      "        0.0       0.85      0.61      0.71      7071\n",
      "        1.0       0.88      0.96      0.92     21385\n",
      "\n",
      "avg / total       0.87      0.88      0.87     28456\n",
      "\n"
     ]
    }
   ],
   "source": [
    "# calculate precision and recall\n",
    "print(classification_report(y_test, y_pred_class))"
   ]
  },
  {
   "cell_type": "markdown",
   "metadata": {},
   "source": [
    "### Random Forest"
   ]
  },
  {
   "cell_type": "code",
   "execution_count": 101,
   "metadata": {},
   "outputs": [
    {
     "data": {
      "text/plain": [
       "RandomForestClassifier(bootstrap=True, class_weight=None, criterion='gini',\n",
       "            max_depth=None, max_features='auto', max_leaf_nodes=None,\n",
       "            min_impurity_decrease=0.0, min_impurity_split=None,\n",
       "            min_samples_leaf=1, min_samples_split=2,\n",
       "            min_weight_fraction_leaf=0.0, n_estimators=100, n_jobs=1,\n",
       "            oob_score=False, random_state=None, verbose=0,\n",
       "            warm_start=False)"
      ]
     },
     "execution_count": 101,
     "metadata": {},
     "output_type": "execute_result"
    }
   ],
   "source": [
    "from sklearn.ensemble import RandomForestClassifier\n",
    "rfc = RandomForestClassifier(n_estimators=100)\n",
    "rfc.fit(X_train_clean, y_train)"
   ]
  },
  {
   "cell_type": "code",
   "execution_count": 102,
   "metadata": {
    "collapsed": true
   },
   "outputs": [],
   "source": [
    "rfc_pred = rfc.predict(X_test_clean)"
   ]
  },
  {
   "cell_type": "code",
   "execution_count": 103,
   "metadata": {},
   "outputs": [
    {
     "name": "stdout",
     "output_type": "stream",
     "text": [
      "0.875527129604\n"
     ]
    }
   ],
   "source": [
    "# calculate accuracy of class predictions\n",
    "print(metrics.accuracy_score(y_test, y_pred_class))"
   ]
  },
  {
   "cell_type": "code",
   "execution_count": 105,
   "metadata": {},
   "outputs": [
    {
     "name": "stdout",
     "output_type": "stream",
     "text": [
      "             precision    recall  f1-score   support\n",
      "\n",
      "        0.0       0.89      0.75      0.81      7071\n",
      "        1.0       0.92      0.97      0.94     21385\n",
      "\n",
      "avg / total       0.91      0.91      0.91     28456\n",
      "\n"
     ]
    }
   ],
   "source": [
    "# calculate precision and recall\n",
    "print(classification_report(y_test,rfc_pred))"
   ]
  },
  {
   "cell_type": "code",
   "execution_count": null,
   "metadata": {
    "collapsed": true
   },
   "outputs": [],
   "source": []
  }
 ],
 "metadata": {
  "kernelspec": {
   "display_name": "Python 3",
   "language": "python",
   "name": "python3"
  },
  "language_info": {
   "codemirror_mode": {
    "name": "ipython",
    "version": 3
   },
   "file_extension": ".py",
   "mimetype": "text/x-python",
   "name": "python",
   "nbconvert_exporter": "python",
   "pygments_lexer": "ipython3",
   "version": "3.6.3"
  }
 },
 "nbformat": 4,
 "nbformat_minor": 2
}
