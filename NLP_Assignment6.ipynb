{
 "cells": [
  {
   "cell_type": "markdown",
   "metadata": {},
   "source": [
    "## Assignment 6"
   ]
  },
  {
   "cell_type": "code",
   "execution_count": 9,
   "metadata": {
    "collapsed": true
   },
   "outputs": [],
   "source": [
    "import time\n",
    "import math\n",
    "import re\n",
    "import pandas as pd\n",
    "from textblob import TextBlob\n",
    "import nltk as nltk\n",
    "from nltk.corpus import stopwords\n",
    "from nltk.stem.wordnet import WordNetLemmatizer\n",
    "\n",
    "import string\n",
    "import warnings\n",
    "warnings.filterwarnings(action='ignore', category=UserWarning, module='gensim')\n",
    "\n",
    "import gensim\n",
    "from gensim import corpora, models"
   ]
  },
  {
   "cell_type": "markdown",
   "metadata": {},
   "source": [
    "## TF-IDF on news articles"
   ]
  },
  {
   "cell_type": "code",
   "execution_count": 15,
   "metadata": {
    "collapsed": true
   },
   "outputs": [],
   "source": [
    "def tf(word, blob):\n",
    "    return blob.words.count(word) / len(blob.words)\n",
    "\n",
    "def n_containing(word, bloblist):\n",
    "    return sum(1 for blob in bloblist if word in blob.words)\n",
    "\n",
    "def idf(word, bloblist):\n",
    "    return math.log(len(bloblist) / (1 + n_containing(word, bloblist)))\n",
    "\n",
    "def tfidf(word, blob, bloblist):\n",
    "    return tf(word, blob) * idf(word, bloblist)"
   ]
  },
  {
   "cell_type": "code",
   "execution_count": 48,
   "metadata": {
    "collapsed": true
   },
   "outputs": [],
   "source": [
    "news_articles = 'webhose_cat.pkl'"
   ]
  },
  {
   "cell_type": "code",
   "execution_count": 49,
   "metadata": {},
   "outputs": [],
   "source": [
    "news_df = pd.read_pickle(news_articles)"
   ]
  },
  {
   "cell_type": "code",
   "execution_count": 50,
   "metadata": {},
   "outputs": [
    {
     "data": {
      "text/html": [
       "<div>\n",
       "<style>\n",
       "    .dataframe thead tr:only-child th {\n",
       "        text-align: right;\n",
       "    }\n",
       "\n",
       "    .dataframe thead th {\n",
       "        text-align: left;\n",
       "    }\n",
       "\n",
       "    .dataframe tbody tr th {\n",
       "        vertical-align: top;\n",
       "    }\n",
       "</style>\n",
       "<table border=\"1\" class=\"dataframe\">\n",
       "  <thead>\n",
       "    <tr style=\"text-align: right;\">\n",
       "      <th></th>\n",
       "      <th>crawled</th>\n",
       "      <th>language</th>\n",
       "      <th>text</th>\n",
       "      <th>title</th>\n",
       "      <th>url</th>\n",
       "    </tr>\n",
       "  </thead>\n",
       "  <tbody>\n",
       "    <tr>\n",
       "      <th>0</th>\n",
       "      <td>2018-01-30T18:28:45.012+02:00</td>\n",
       "      <td>english</td>\n",
       "      <td>Avery Dennison's (AVY) Q4 results are likely to gain on the back of solid momentum in its segmen...</td>\n",
       "      <td>IRobot downgraded to neutral from buy at Sidoti &amp; Co.</td>\n",
       "      <td>http://omgili.com/ri/.wHSUbtEfZQRfU.5KUm1RkeXyWwa2NebtNAe6c3kk40xYUfmvvRJ0Ez90L4hcpBcEC67530Esyg-</td>\n",
       "    </tr>\n",
       "    <tr>\n",
       "      <th>1</th>\n",
       "      <td>2018-01-30T18:29:07.001+02:00</td>\n",
       "      <td>french</td>\n",
       "      <td>1m95, c’est trop grand. Et sa stature, Bertrand Zibi Abeghe en paie le prix. Dans sa cellule de ...</td>\n",
       "      <td>\"Bertrand Zibi Abeghe, encore prisonnier, et torturé\", un récit de Jeanne Farge</td>\n",
       "      <td>http://omgili.com/ri/.wHSUbtEfZTpzFtnXyQJIwJ.jePivduuQxl7XJliqPANqwhuqSUg_E.s9oUhmDhJMs2xv3xWR.0...</td>\n",
       "    </tr>\n",
       "    <tr>\n",
       "      <th>2</th>\n",
       "      <td>2018-01-30T18:29:40.000+02:00</td>\n",
       "      <td>english</td>\n",
       "      <td>Tuggers and Topper Industrial Carts Help Transport Materials Between Manufacturing Plants and Wa...</td>\n",
       "      <td>Tuggers and Topper Industrial Carts Help Transport Materials Between Manufacturing Plants and Wa...</td>\n",
       "      <td>http://omgili.com/ri/jHIAmI4hxg.zDiulpymXqU_n4je9AOsBi7.CcJmqqQi3Efu9fXRTSIPQkf8q0eN1ZnYNKk.TIPo...</td>\n",
       "    </tr>\n",
       "    <tr>\n",
       "      <th>3</th>\n",
       "      <td>2018-01-30T18:30:05.007+02:00</td>\n",
       "      <td>english</td>\n",
       "      <td>Currently adding the following games:\\n100 (by everythingstaken) 100 Free Beetles 2000:1: A Spac...</td>\n",
       "      <td></td>\n",
       "      <td>http://omgili.com/ri/.0rSU5LtMgyggHgoOVy9TMDWTEMJi4jQ_AfNI6u4qLL71YWM0VxMlyX.KDtAoU1g1Rx.SnmUgSf...</td>\n",
       "    </tr>\n",
       "    <tr>\n",
       "      <th>4</th>\n",
       "      <td>2018-01-30T18:30:05.013+02:00</td>\n",
       "      <td>english</td>\n",
       "      <td>Quote: : » Currently adding the following games:\\n100 (by everythingstaken) 100 Free Beetles 200...</td>\n",
       "      <td></td>\n",
       "      <td>http://omgili.com/ri/.0rSU5LtMgyggHgoOVy9TMDWTEMJi4jQ_AfNI6u4qLL71YWM0VxMlyX.KDtAoU1g1Rx.SnmUgSf...</td>\n",
       "    </tr>\n",
       "  </tbody>\n",
       "</table>\n",
       "</div>"
      ],
      "text/plain": [
       "                         crawled language  \\\n",
       "0  2018-01-30T18:28:45.012+02:00  english   \n",
       "1  2018-01-30T18:29:07.001+02:00   french   \n",
       "2  2018-01-30T18:29:40.000+02:00  english   \n",
       "3  2018-01-30T18:30:05.007+02:00  english   \n",
       "4  2018-01-30T18:30:05.013+02:00  english   \n",
       "\n",
       "                                                                                                  text  \\\n",
       "0  Avery Dennison's (AVY) Q4 results are likely to gain on the back of solid momentum in its segmen...   \n",
       "1  1m95, c’est trop grand. Et sa stature, Bertrand Zibi Abeghe en paie le prix. Dans sa cellule de ...   \n",
       "2  Tuggers and Topper Industrial Carts Help Transport Materials Between Manufacturing Plants and Wa...   \n",
       "3  Currently adding the following games:\\n100 (by everythingstaken) 100 Free Beetles 2000:1: A Spac...   \n",
       "4  Quote: : » Currently adding the following games:\\n100 (by everythingstaken) 100 Free Beetles 200...   \n",
       "\n",
       "                                                                                                 title  \\\n",
       "0                                                IRobot downgraded to neutral from buy at Sidoti & Co.   \n",
       "1                      \"Bertrand Zibi Abeghe, encore prisonnier, et torturé\", un récit de Jeanne Farge   \n",
       "2  Tuggers and Topper Industrial Carts Help Transport Materials Between Manufacturing Plants and Wa...   \n",
       "3                                                                                                        \n",
       "4                                                                                                        \n",
       "\n",
       "                                                                                                   url  \n",
       "0    http://omgili.com/ri/.wHSUbtEfZQRfU.5KUm1RkeXyWwa2NebtNAe6c3kk40xYUfmvvRJ0Ez90L4hcpBcEC67530Esyg-  \n",
       "1  http://omgili.com/ri/.wHSUbtEfZTpzFtnXyQJIwJ.jePivduuQxl7XJliqPANqwhuqSUg_E.s9oUhmDhJMs2xv3xWR.0...  \n",
       "2  http://omgili.com/ri/jHIAmI4hxg.zDiulpymXqU_n4je9AOsBi7.CcJmqqQi3Efu9fXRTSIPQkf8q0eN1ZnYNKk.TIPo...  \n",
       "3  http://omgili.com/ri/.0rSU5LtMgyggHgoOVy9TMDWTEMJi4jQ_AfNI6u4qLL71YWM0VxMlyX.KDtAoU1g1Rx.SnmUgSf...  \n",
       "4  http://omgili.com/ri/.0rSU5LtMgyggHgoOVy9TMDWTEMJi4jQ_AfNI6u4qLL71YWM0VxMlyX.KDtAoU1g1Rx.SnmUgSf...  "
      ]
     },
     "execution_count": 50,
     "metadata": {},
     "output_type": "execute_result"
    }
   ],
   "source": [
    "news_df.head(5)"
   ]
  },
  {
   "cell_type": "code",
   "execution_count": 51,
   "metadata": {},
   "outputs": [
    {
     "data": {
      "text/plain": [
       "(100, 5)"
      ]
     },
     "execution_count": 51,
     "metadata": {},
     "output_type": "execute_result"
    }
   ],
   "source": [
    "news_df.shape"
   ]
  },
  {
   "cell_type": "code",
   "execution_count": 52,
   "metadata": {
    "collapsed": true
   },
   "outputs": [],
   "source": [
    "# Filter non-English tweets\n",
    "news_eng = news_df[news_df['language']=='english'].reset_index(drop=True)"
   ]
  },
  {
   "cell_type": "code",
   "execution_count": 53,
   "metadata": {},
   "outputs": [],
   "source": [
    "# Remove special characters to avoid problems with analysis\n",
    "news_eng['text_clean'] = news_eng['text'].map(lambda x: re.sub('[^a-zA-Z0-9 @ . , : - _]', '', str(x)))"
   ]
  },
  {
   "cell_type": "code",
   "execution_count": 54,
   "metadata": {},
   "outputs": [
    {
     "data": {
      "text/html": [
       "<div>\n",
       "<style>\n",
       "    .dataframe thead tr:only-child th {\n",
       "        text-align: right;\n",
       "    }\n",
       "\n",
       "    .dataframe thead th {\n",
       "        text-align: left;\n",
       "    }\n",
       "\n",
       "    .dataframe tbody tr th {\n",
       "        vertical-align: top;\n",
       "    }\n",
       "</style>\n",
       "<table border=\"1\" class=\"dataframe\">\n",
       "  <thead>\n",
       "    <tr style=\"text-align: right;\">\n",
       "      <th></th>\n",
       "      <th>text</th>\n",
       "      <th>text_clean</th>\n",
       "    </tr>\n",
       "  </thead>\n",
       "  <tbody>\n",
       "    <tr>\n",
       "      <th>0</th>\n",
       "      <td>Avery Dennison's (AVY) Q4 results are likely to gain on the back of solid momentum in its segmen...</td>\n",
       "      <td>Avery Dennisons AVY Q4 results are likely to gain on the back of solid momentum in its segments,...</td>\n",
       "    </tr>\n",
       "    <tr>\n",
       "      <th>1</th>\n",
       "      <td>Tuggers and Topper Industrial Carts Help Transport Materials Between Manufacturing Plants and Wa...</td>\n",
       "      <td>Tuggers and Topper Industrial Carts Help Transport Materials Between Manufacturing Plants and Wa...</td>\n",
       "    </tr>\n",
       "    <tr>\n",
       "      <th>2</th>\n",
       "      <td>Currently adding the following games:\\n100 (by everythingstaken) 100 Free Beetles 2000:1: A Spac...</td>\n",
       "      <td>Currently adding the following games:100 by everythingstaken 100 Free Beetles 2000:1: A Space Fe...</td>\n",
       "    </tr>\n",
       "    <tr>\n",
       "      <th>3</th>\n",
       "      <td>Quote: : » Currently adding the following games:\\n100 (by everythingstaken) 100 Free Beetles 200...</td>\n",
       "      <td>Quote: :  Currently adding the following games:100 by everythingstaken 100 Free Beetles 2000:1: ...</td>\n",
       "    </tr>\n",
       "    <tr>\n",
       "      <th>4</th>\n",
       "      <td>Quote: : » Currently adding the following games:\\n100 (by everythingstaken) 100 Free Beetles 200...</td>\n",
       "      <td>Quote: :  Currently adding the following games:100 by everythingstaken 100 Free Beetles 2000:1: ...</td>\n",
       "    </tr>\n",
       "  </tbody>\n",
       "</table>\n",
       "</div>"
      ],
      "text/plain": [
       "                                                                                                  text  \\\n",
       "0  Avery Dennison's (AVY) Q4 results are likely to gain on the back of solid momentum in its segmen...   \n",
       "1  Tuggers and Topper Industrial Carts Help Transport Materials Between Manufacturing Plants and Wa...   \n",
       "2  Currently adding the following games:\\n100 (by everythingstaken) 100 Free Beetles 2000:1: A Spac...   \n",
       "3  Quote: : » Currently adding the following games:\\n100 (by everythingstaken) 100 Free Beetles 200...   \n",
       "4  Quote: : » Currently adding the following games:\\n100 (by everythingstaken) 100 Free Beetles 200...   \n",
       "\n",
       "                                                                                            text_clean  \n",
       "0  Avery Dennisons AVY Q4 results are likely to gain on the back of solid momentum in its segments,...  \n",
       "1  Tuggers and Topper Industrial Carts Help Transport Materials Between Manufacturing Plants and Wa...  \n",
       "2  Currently adding the following games:100 by everythingstaken 100 Free Beetles 2000:1: A Space Fe...  \n",
       "3  Quote: :  Currently adding the following games:100 by everythingstaken 100 Free Beetles 2000:1: ...  \n",
       "4  Quote: :  Currently adding the following games:100 by everythingstaken 100 Free Beetles 2000:1: ...  "
      ]
     },
     "execution_count": 54,
     "metadata": {},
     "output_type": "execute_result"
    }
   ],
   "source": [
    "pd.set_option('display.max_colwidth', 100)\n",
    "news_eng[['text', 'text_clean']].head(5)"
   ]
  },
  {
   "cell_type": "code",
   "execution_count": 55,
   "metadata": {},
   "outputs": [
    {
     "data": {
      "text/plain": [
       "95"
      ]
     },
     "execution_count": 55,
     "metadata": {},
     "output_type": "execute_result"
    }
   ],
   "source": [
    "bloblist = []\n",
    "del bloblist[:]\n",
    "\n",
    "for i in range(0,len(news_eng)):\n",
    "    bloblist.append(TextBlob(news_eng['text_clean'].iloc[i]))\n",
    "    \n",
    "len(bloblist) "
   ]
  },
  {
   "cell_type": "code",
   "execution_count": 56,
   "metadata": {},
   "outputs": [
    {
     "name": "stdout",
     "output_type": "stream",
     "text": [
      "Top words in news article 1\n",
      "\tWord: ET, TF-IDF: 0.11986\n",
      "\tWord: On, TF-IDF: 0.0776\n",
      "\tWord: a.m, TF-IDF: 0.06613\n",
      "\tWord: Jan, TF-IDF: 0.06186\n",
      "\tWord: p.m, TF-IDF: 0.05373\n",
      "\tWord: Zacks.com, TF-IDF: 0.0508\n",
      "\tWord: 2018, TF-IDF: 0.03319\n",
      "\tWord: Oct, TF-IDF: 0.03306\n",
      "\tWord: 2017, TF-IDF: 0.0308\n",
      "\tWord: iRobot, TF-IDF: 0.02893\n",
      "Top words in news article 2\n",
      "\tWord: Carts, TF-IDF: 0.09488\n",
      "\tWord: carts, TF-IDF: 0.08698\n",
      "\tWord: Topper, TF-IDF: 0.07248\n",
      "\tWord: To, TF-IDF: 0.06167\n",
      "\tWord: Industrial, TF-IDF: 0.04261\n",
      "\tWord: industrial, TF-IDF: 0.04261\n",
      "\tWord: operators, TF-IDF: 0.02899\n",
      "\tWord: handling, TF-IDF: 0.02696\n",
      "\tWord: Warehouses, TF-IDF: 0.02372\n",
      "\tWord: Transport, TF-IDF: 0.02175\n",
      "Top words in news article 3\n",
      "\tWord: THE, TF-IDF: 0.14393\n",
      "\tWord: OF, TF-IDF: 0.0455\n",
      "\tWord: And, TF-IDF: 0.02571\n",
      "\tWord: Space, TF-IDF: 0.0195\n",
      "\tWord: Tower, TF-IDF: 0.0195\n",
      "\tWord: Super, TF-IDF: 0.01829\n",
      "\tWord: 2, TF-IDF: 0.01822\n",
      "\tWord: The, TF-IDF: 0.01765\n",
      "\tWord: Last, TF-IDF: 0.01727\n",
      "\tWord: adding, TF-IDF: 0.01398\n",
      "Top words in news article 4\n",
      "\tWord: THE, TF-IDF: 0.14396\n",
      "\tWord: OF, TF-IDF: 0.04376\n",
      "\tWord: And, TF-IDF: 0.02825\n",
      "\tWord: Dungeon, TF-IDF: 0.02018\n",
      "\tWord: game, TF-IDF: 0.02018\n",
      "\tWord: Space, TF-IDF: 0.01875\n",
      "\tWord: Tower, TF-IDF: 0.01875\n",
      "\tWord: Game, TF-IDF: 0.01875\n",
      "\tWord: The, TF-IDF: 0.01765\n",
      "\tWord: Super, TF-IDF: 0.01759\n",
      "Top words in news article 5\n",
      "\tWord: THE, TF-IDF: 0.13782\n",
      "\tWord: OF, TF-IDF: 0.04788\n",
      "\tWord: And, TF-IDF: 0.02367\n",
      "\tWord: rabbit, TF-IDF: 0.02354\n",
      "\tWord: It, TF-IDF: 0.02147\n",
      "\tWord: Rabbit, TF-IDF: 0.01931\n",
      "\tWord: Space, TF-IDF: 0.01795\n",
      "\tWord: Death, TF-IDF: 0.01795\n",
      "\tWord: Tower, TF-IDF: 0.01795\n",
      "\tWord: death, TF-IDF: 0.01795\n"
     ]
    }
   ],
   "source": [
    "for i, blob in enumerate(bloblist):\n",
    "# Print top 5 values\n",
    "    if i == 5:\n",
    "        break\n",
    "    print(\"Top words in news article {}\".format(i + 1))\n",
    "    scores = {word: tfidf(word, blob, bloblist) for word in blob.words}\n",
    "    sorted_words = sorted(scores.items(), key=lambda x: x[1], reverse=True)\n",
    "    for word, score in sorted_words[:10]:\n",
    "        print(\"\\tWord: {}, TF-IDF: {}\".format(word, round(score, 5)))"
   ]
  },
  {
   "cell_type": "markdown",
   "metadata": {},
   "source": [
    "### Applying LDA to news articles"
   ]
  },
  {
   "cell_type": "code",
   "execution_count": 90,
   "metadata": {},
   "outputs": [],
   "source": [
    "news_list = news_eng['text_clean'].tolist()\n",
    "#news_list[:2]"
   ]
  },
  {
   "cell_type": "code",
   "execution_count": 58,
   "metadata": {},
   "outputs": [],
   "source": [
    "stop = set(stopwords.words('english'))\n",
    "exclude = set(string.punctuation)\n",
    "lemma = WordNetLemmatizer()\n",
    "def clean(doc):\n",
    "    stop_free = \" \".join([i for i in doc.lower().split() if i not in stop])\n",
    "    punc_free = ''.join(ch for ch in stop_free if ch not in exclude)\n",
    "    normalized = \" \".join(lemma.lemmatize(word) for word in punc_free.split())\n",
    "    return normalized"
   ]
  },
  {
   "cell_type": "code",
   "execution_count": 59,
   "metadata": {},
   "outputs": [
    {
     "data": {
      "text/plain": [
       "95"
      ]
     },
     "execution_count": 59,
     "metadata": {},
     "output_type": "execute_result"
    }
   ],
   "source": [
    "news_clean = [clean(doc).split() for doc in news_list]\n",
    "len(news_clean)"
   ]
  },
  {
   "cell_type": "code",
   "execution_count": 60,
   "metadata": {},
   "outputs": [
    {
     "name": "stdout",
     "output_type": "stream",
     "text": [
      "['avery', 'dennisons', 'avy', 'q4', 'result', 'likely', 'gain', 'back', 'solid', 'momentum', 'segment', 'focus', 'productivity', 'acquisition', 'cost', 'control', 'effort', 'jan', '30', '2018', '340', 'am', 'et', 'zackscom', '5', 'strong', 'stock', 'company', 'still', 'led', 'founder', 'day', 'executive', 'transition', 'often', 'appease', 'shareholder', 'especially', 'tough', 'timeseven', 'mean', 'axing', 'company', 'founder', 'top', 'that', 'ceo', 'jump', 'company', 'company', 'making', 'increasingly', 'rare', 'see', 'founder', 'successfully', 'lead', 'startup', 'publicly', 'traded', 'giant', 'keep', 'top', 'gig', 'jan', '25', '2018', '1142', 'am', 'et', 'zackscom', 'rockwell', 'automation', 'rok', 'expects', 'benefit', 'expanded', 'product', 'offering', 'strong', 'customer', 'relationship', 'strategic', 'focus', 'connected', 'enterprise', 'jan', '24', '2018', '323', 'pm', 'et', 'zackscom', 'pentairs', 'pnr', 'q4', 'result', 'likely', 'gain', 'residential', 'commercial', 'sector', 'despite', 'impact', 'hurricane', 'jan', '24', '2018', '320', 'pm', 'et', 'zackscom', 'number', 'investment', 'idea', 'growth', 'stock', 'jan', '24', '2018', '1143', 'strong', 'booking', 'trend', 'continued', 'growth', 'energy', 'engineered', 'system', 'fluid', 'segment', 'likely', 'catalyst', 'dover', 'dov', 'q4', 'result', 'jan', '24', '2018', '820', 'am', 'et', 'zackscom', 'delivering', 'backtoback', 'surprise', 'three', 'quarter', '2017', 'caterpillar', 'likely', 'deliver', 'another', 'beat', 'q4', 'driven', 'upbeat', 'performance', 'segment', 'jan', '22', '2018', '907', 'am', 'et', 'zackscom', 'jan', '22', '2018', '947', 'am', 'et', 'motley', 'fool', 'jan', '20', '2018', '130', 'pm', 'et', 'motley', 'fool', '6', 'industrial', 'stock', 'likely', 'beat', 'estimate', 'q4', 'jan', '19', '2018', '1250', 'pm', 'et', 'investorplacecom', 'rockwell', 'automation', 'rok', 'focus', 'ce', 'strategy', 'solid', 'order', 'acquisition', 'anticipated', 'drive', 'earnings', 'fiscal', 'first', 'quarter', 'amid', 'elevated', 'cost', 'jan', '19', '2018', '954', 'am', 'et', 'zackscom', 'zacks', 'analyst', 'blog', 'highlight', 'caterpillar', 'acco', 'brand', 'irobot', 'graphic', 'packaging', 'holding', 'jan', '19', '2018', '840', 'am', 'et', 'zackscom', 'rally', 'irobot', 'stock', 'isnt', 'yet', 'jan', '18', '2018', '703', 'pm', 'et', 'seeking', 'alpha', 'manufacturing', 'activity', 'new', 'order', 'high', 'prudent', 'capitalize', 'momentum', 'jan', '18', '2018', '233', 'pm', 'et', 'zackscom', 'jan', '17', '2018', '223', 'pm', 'et', 'motley', 'fool', 'viasat', 'vsat', 'secures', 'fiveyear', 'indefinitedelivery', 'indefinitequantity', 'contract', 'deliver', 'advanced', 'equipment', 'system', 'service', 'support', 'special', 'operation', 'force', 'jan', '16', '2018', '932', 'am', 'et', 'zackscom', 'viasat', 'vsat', 'enjoying', 'robust', 'growth', 'driver', 'including', 'accelerating', 'inflight', 'installs', 'viasat2', 'satellite', 'service', 'potential', 'government', 'win', 'jan', '15', '2018', '902', 'am', 'et', 'zackscom', 'jan', '13', '2018', '902', 'pm', 'et', 'motley', 'fool', 'jan', '10', '2018', '635', 'pm', 'et', 'motley', 'fool', 'loup', 'venture', 'ausgin', 'bohlig', 'see', 'lot', 'legway', 'robot', 'market', 'grow', 'domestic', 'international', 'front', 'report', 'optimistic', 'irbts', 'positioning', 'gain', 'jan', '9', '2018', '911', 'am', 'et', 'smarteranalyst', 'global', 'internet', 'robotic', 'thing', 'market', '20172023', 'software', 'platform', 'component', 'enduser', 'geography', 'jan', '24', '2018', '851', 'am', 'et', 'globenewswire', 'detailed', 'study', 'cbrn', 'defense', 'market', 'witness', 'striking', 'growth', '2021', 'asserts', 'mrfr', 'jan', '21', '2018', '140', 'pm', 'et', 'financeswire', 'global', 'industrial', 'floor', 'scrubber', 'market', 'worth', 'us662', 'bn', '2025', 'increased', 'emphasis', 'cleanliness', 'driving', 'demand', 'jan', '19', '2018', '853', 'am', 'et', 'globenewswire', 'global', 'service', 'robotics', 'market', 'reach', 'u', '2400', 'billion', '2022', 'jan', '10', '2018', '105', 'pm', 'et', 'financeswire', 'global', 'service', 'robotics', 'market', 'share', 'increase', 'u', '23', 'billion', '2022', 'jan', '10', '2018', '1209', 'pm', 'et', 'financeswire', 'consumer', 'robotics', 'market', 'size', 'sale', 'revenue', 'grow', 'pricing', 'industry', 'growth', 'analysis', 'potential', 'industry', '20172023', 'jan', '8', '2018', '216', 'pm', 'et', 'financeswire', 'irobot', 'announces', 'agreement', 'black', 'decker', 'patent', 'dispute', 'dec', '18', '2017', '1030', 'irobot', 'cfo', 'speak', 'nasdaq', '37th', 'investor', 'program', 'nov', '28', '2017', '9', 'robotics', 'market', 'global', 'industry', 'analysis', 'size', 'share', 'growth', 'trend', 'forecast', '2017', '2025', 'nov', '20', '2017', '902', 'consolidated', 'research', '2018', 'summary', 'expectation', 'irobot', 'hollyfrontier', 'murphy', 'ngl', 'energy', 'brookdale', 'lumentum', 'fundamental', 'analysis', 'key', 'performance', 'indication', 'nov', '9', '2017', '831', 'am', 'et', 'globenewswire', 'earnings', 'review', 'free', 'research', 'report', 'irobots', 'revenue', 'jumped', '218', 'nov', '9', '2017', '701', 'am', 'et', 'accesswire', 'nov', '1', '2017', '731', 'am', 'et', 'globenewswire', 'oct', '31', '2017', '1242', 'oct', '30', '2017', '113', 'oct', '30', '2017', '1250', 'oct', '30', '2017', '1111', 'oct', '24', '2017', '401', 'oct', '24', '2017', '809', 'am', 'et', 'globenewswire', 'oct', '17', '2017', '9', 'oct', '10', '2017', '930', 'irobot', 'corp', 'irobot', 'corp', 'engages', 'business', 'designing', 'building', 'robot', 'offer', 'robot', 'vacuum', 'robot', 'map', 'pool', 'cleaner', 'rodney', 'allen', 'brook', 'colin', 'm', 'angle', 'helen', 'greiner', 'august', '1990', 'headquartered', 'bedford', 'ma']\n"
     ]
    }
   ],
   "source": [
    "print(*news_clean[:1], sep='\\n\\n')"
   ]
  },
  {
   "cell_type": "code",
   "execution_count": 61,
   "metadata": {},
   "outputs": [
    {
     "name": "stdout",
     "output_type": "stream",
     "text": [
      "CPU times: user 31.6 ms, sys: 1.38 ms, total: 33 ms\n",
      "Wall time: 33.1 ms\n"
     ]
    }
   ],
   "source": [
    "# Creating the term dictionary of the courpus, where every unique term is assigned an index. \n",
    "dictionary = corpora.Dictionary(news_clean)\n",
    "\n",
    "# Converting list of documents (corpus) into Document Term Matrix using dictionary prepared above.\n",
    "%time doc_term_matrix = [dictionary.doc2bow(doc) for doc in news_clean]"
   ]
  },
  {
   "cell_type": "markdown",
   "metadata": {},
   "source": [
    "#### 3 topic model"
   ]
  },
  {
   "cell_type": "code",
   "execution_count": 67,
   "metadata": {},
   "outputs": [
    {
     "name": "stdout",
     "output_type": "stream",
     "text": [
      "CPU times: user 1min 49s, sys: 1.76 s, total: 1min 51s\n",
      "Wall time: 59.5 s\n"
     ]
    }
   ],
   "source": [
    "# Creating the object for LDA model using gensim library\n",
    "Lda = gensim.models.ldamodel.LdaModel\n",
    "numtopics = 3\n",
    "\n",
    "# Running and Trainign LDA model on the document term matrix.\n",
    "%time ldamodel = Lda(doc_term_matrix, num_topics=numtopics, id2word = dictionary, passes=50)"
   ]
  },
  {
   "cell_type": "code",
   "execution_count": 68,
   "metadata": {},
   "outputs": [
    {
     "name": "stdout",
     "output_type": "stream",
     "text": [
      "(0, '0.010*\"inc\" + 0.010*\"company\" + 0.009*\"jan\"')\n",
      "\n",
      "(1, '0.009*\"tax\" + 0.007*\"u\" + 0.006*\"city\"')\n",
      "\n",
      "(2, '0.014*\"market\" + 0.010*\"plant\" + 0.005*\"case\"')\n"
     ]
    }
   ],
   "source": [
    "print(*ldamodel.print_topics(num_topics=numtopics, num_words=3), sep='\\n\\n')"
   ]
  },
  {
   "cell_type": "code",
   "execution_count": 69,
   "metadata": {},
   "outputs": [
    {
     "name": "stdout",
     "output_type": "stream",
     "text": [
      "(0, '0.010*\"inc\" + 0.010*\"company\" + 0.009*\"jan\" + 0.009*\"share\" + 0.009*\"caterpillar\"')\n",
      "\n",
      "(1, '0.009*\"tax\" + 0.007*\"u\" + 0.006*\"city\" + 0.005*\"one\" + 0.005*\"company\"')\n",
      "\n",
      "(2, '0.014*\"market\" + 0.010*\"plant\" + 0.005*\"case\" + 0.005*\"sphere\" + 0.005*\"amazon\"')\n"
     ]
    }
   ],
   "source": [
    "print(*ldamodel.print_topics(num_topics=numtopics, num_words=5), sep='\\n\\n')"
   ]
  },
  {
   "cell_type": "code",
   "execution_count": 70,
   "metadata": {},
   "outputs": [
    {
     "name": "stdout",
     "output_type": "stream",
     "text": [
      "(0, '0.010*\"inc\" + 0.010*\"company\" + 0.009*\"jan\" + 0.009*\"share\" + 0.009*\"caterpillar\" + 0.005*\"product\" + 0.005*\"stock\"')\n",
      "\n",
      "(1, '0.009*\"tax\" + 0.007*\"u\" + 0.006*\"city\" + 0.005*\"one\" + 0.005*\"company\" + 0.004*\"median\" + 0.004*\"university\"')\n",
      "\n",
      "(2, '0.014*\"market\" + 0.010*\"plant\" + 0.005*\"case\" + 0.005*\"sphere\" + 0.005*\"amazon\" + 0.004*\"seattle\" + 0.004*\"industry\"')\n"
     ]
    }
   ],
   "source": [
    "print(*ldamodel.print_topics(num_topics=numtopics, num_words=7), sep='\\n\\n')"
   ]
  },
  {
   "cell_type": "code",
   "execution_count": 71,
   "metadata": {},
   "outputs": [
    {
     "name": "stdout",
     "output_type": "stream",
     "text": [
      "(0, '0.010*\"inc\" + 0.010*\"company\" + 0.009*\"jan\" + 0.009*\"share\" + 0.009*\"caterpillar\" + 0.005*\"product\" + 0.005*\"stock\" + 0.004*\"2018\" + 0.004*\"iot\" + 0.004*\"support\"')\n",
      "\n",
      "(1, '0.009*\"tax\" + 0.007*\"u\" + 0.006*\"city\" + 0.005*\"one\" + 0.005*\"company\" + 0.004*\"median\" + 0.004*\"university\" + 0.004*\"estimate\" + 0.004*\"state\" + 0.004*\"rate\"')\n",
      "\n",
      "(2, '0.014*\"market\" + 0.010*\"plant\" + 0.005*\"case\" + 0.005*\"sphere\" + 0.005*\"amazon\" + 0.004*\"seattle\" + 0.004*\"industry\" + 0.004*\"report\" + 0.004*\"also\" + 0.004*\"year\"')\n"
     ]
    }
   ],
   "source": [
    "print(*ldamodel.print_topics(num_topics=numtopics, num_words=10), sep='\\n\\n')"
   ]
  },
  {
   "cell_type": "markdown",
   "metadata": {},
   "source": [
    "#### 5 topic model"
   ]
  },
  {
   "cell_type": "code",
   "execution_count": 72,
   "metadata": {},
   "outputs": [
    {
     "name": "stdout",
     "output_type": "stream",
     "text": [
      "CPU times: user 1min 45s, sys: 1.17 s, total: 1min 46s\n",
      "Wall time: 57.6 s\n"
     ]
    }
   ],
   "source": [
    "# Creating the object for LDA model using gensim library\n",
    "Lda = gensim.models.ldamodel.LdaModel\n",
    "numtopics = 5\n",
    "\n",
    "# Running and Trainign LDA model on the document term matrix.\n",
    "%time ldamodel = Lda(doc_term_matrix, num_topics=numtopics, id2word = dictionary, passes=50)"
   ]
  },
  {
   "cell_type": "code",
   "execution_count": 73,
   "metadata": {},
   "outputs": [
    {
     "name": "stdout",
     "output_type": "stream",
     "text": [
      "(0, '0.016*\"caterpillar\" + 0.012*\"company\" + 0.012*\"share\"')\n",
      "\n",
      "(1, '0.011*\"sphere\" + 0.010*\"amazon\" + 0.010*\"seattle\"')\n",
      "\n",
      "(2, '0.023*\"market\" + 0.014*\"plant\" + 0.008*\"case\"')\n",
      "\n",
      "(3, '0.011*\"tax\" + 0.009*\"u\" + 0.007*\"city\"')\n",
      "\n",
      "(4, '0.011*\"inc\" + 0.010*\"jan\" + 0.006*\"iot\"')\n"
     ]
    }
   ],
   "source": [
    "print(*ldamodel.print_topics(num_topics=numtopics, num_words=3), sep='\\n\\n')"
   ]
  },
  {
   "cell_type": "code",
   "execution_count": 74,
   "metadata": {},
   "outputs": [
    {
     "name": "stdout",
     "output_type": "stream",
     "text": [
      "(0, '0.016*\"caterpillar\" + 0.012*\"company\" + 0.012*\"share\" + 0.008*\"product\" + 0.008*\"industrial\"')\n",
      "\n",
      "(1, '0.011*\"sphere\" + 0.010*\"amazon\" + 0.010*\"seattle\" + 0.006*\"2018\" + 0.006*\"monday\"')\n",
      "\n",
      "(2, '0.023*\"market\" + 0.014*\"plant\" + 0.008*\"case\" + 0.007*\"industry\" + 0.007*\"report\"')\n",
      "\n",
      "(3, '0.011*\"tax\" + 0.009*\"u\" + 0.007*\"city\" + 0.006*\"company\" + 0.005*\"median\"')\n",
      "\n",
      "(4, '0.011*\"inc\" + 0.010*\"jan\" + 0.006*\"iot\" + 0.005*\"blade\" + 0.005*\"support\"')\n"
     ]
    }
   ],
   "source": [
    "print(*ldamodel.print_topics(num_topics=numtopics, num_words=5), sep='\\n\\n')"
   ]
  },
  {
   "cell_type": "code",
   "execution_count": 75,
   "metadata": {},
   "outputs": [
    {
     "name": "stdout",
     "output_type": "stream",
     "text": [
      "(0, '0.016*\"caterpillar\" + 0.012*\"company\" + 0.012*\"share\" + 0.008*\"product\" + 0.008*\"industrial\" + 0.008*\"stock\" + 0.007*\"cart\"')\n",
      "\n",
      "(1, '0.011*\"sphere\" + 0.010*\"amazon\" + 0.010*\"seattle\" + 0.006*\"2018\" + 0.006*\"monday\" + 0.006*\"grand\" + 0.006*\"opening\"')\n",
      "\n",
      "(2, '0.023*\"market\" + 0.014*\"plant\" + 0.008*\"case\" + 0.007*\"industry\" + 0.007*\"report\" + 0.005*\"also\" + 0.005*\"growth\"')\n",
      "\n",
      "(3, '0.011*\"tax\" + 0.009*\"u\" + 0.007*\"city\" + 0.006*\"company\" + 0.005*\"median\" + 0.005*\"state\" + 0.005*\"estimate\"')\n",
      "\n",
      "(4, '0.011*\"inc\" + 0.010*\"jan\" + 0.006*\"iot\" + 0.005*\"blade\" + 0.005*\"support\" + 0.005*\"skid\" + 0.004*\"2018\"')\n"
     ]
    }
   ],
   "source": [
    "print(*ldamodel.print_topics(num_topics=numtopics, num_words=7), sep='\\n\\n')"
   ]
  },
  {
   "cell_type": "code",
   "execution_count": 85,
   "metadata": {},
   "outputs": [
    {
     "name": "stdout",
     "output_type": "stream",
     "text": [
      "(0, '0.018*\"company\" + 0.016*\"health\" + 0.011*\"new\" + 0.010*\"care\" + 0.010*\"employee\" + 0.009*\"cost\" + 0.008*\"healthcare\" + 0.006*\"may\" + 0.006*\"inc\" + 0.006*\"jpmorgan\"')\n",
      "\n",
      "(1, '0.016*\"coating\" + 0.016*\"biopolymer\" + 0.010*\"year\" + 0.010*\"planer\" + 0.010*\"cold\" + 0.005*\"image\" + 0.005*\"million\" + 0.004*\"might\" + 0.004*\"like\" + 0.004*\"getty\"')\n",
      "\n",
      "(2, '0.014*\"median\" + 0.014*\"city\" + 0.013*\"estimate\" + 0.013*\"university\" + 0.011*\"2017\" + 0.010*\"town\" + 0.009*\"state\" + 0.008*\"zillow\" + 0.007*\"major\" + 0.007*\"home\"')\n",
      "\n",
      "(3, '0.015*\"company\" + 0.014*\"caterpillar\" + 0.012*\"share\" + 0.008*\"stock\" + 0.008*\"product\" + 0.008*\"iot\" + 0.006*\"rating\" + 0.006*\"blade\" + 0.006*\"pusher\" + 0.005*\"end\"')\n",
      "\n",
      "(4, '0.016*\"jan\" + 0.014*\"sphere\" + 0.014*\"inc\" + 0.014*\"amazon\" + 0.013*\"seattle\" + 0.009*\"29\" + 0.007*\"monday\" + 0.007*\"grand\" + 0.007*\"opening\" + 0.007*\"2018\"')\n",
      "\n",
      "(5, '0.017*\"tax\" + 0.013*\"plant\" + 0.012*\"u\" + 0.008*\"case\" + 0.007*\"china\" + 0.006*\"repatriation\" + 0.006*\"year\" + 0.005*\"one\" + 0.005*\"would\" + 0.005*\"profit\"')\n",
      "\n",
      "(6, '0.014*\"house\" + 0.005*\"caterpillar\" + 0.005*\"like\" + 0.005*\"accounting\" + 0.005*\"one\" + 0.004*\"phone\" + 0.004*\"architect\" + 0.004*\"way\" + 0.004*\"home\" + 0.003*\"design\"')\n",
      "\n",
      "(7, '0.041*\"market\" + 0.012*\"industry\" + 0.012*\"report\" + 0.009*\"analysis\" + 0.008*\"growth\" + 0.007*\"state\" + 0.006*\"product\" + 0.006*\"also\" + 0.006*\"key\" + 0.006*\"skid\"')\n",
      "\n",
      "(8, '0.011*\"2018\" + 0.009*\"et\" + 0.008*\"jan\" + 0.006*\"2\" + 0.006*\"2017\" + 0.005*\"am\" + 0.004*\"pm\" + 0.004*\"space\" + 0.004*\"gas\" + 0.003*\"zackscom\"')\n",
      "\n",
      "(9, '0.011*\"operation\" + 0.010*\"share\" + 0.009*\"cart\" + 0.009*\"jan\" + 0.008*\"forklift\" + 0.007*\"manufacturing\" + 0.007*\"topper\" + 0.007*\"product\" + 0.007*\"material\" + 0.006*\"project\"')\n"
     ]
    }
   ],
   "source": [
    "print(*ldamodel.print_topics(num_topics=numtopics, num_words=10), sep='\\n\\n')"
   ]
  },
  {
   "cell_type": "code",
   "execution_count": 77,
   "metadata": {},
   "outputs": [
    {
     "name": "stdout",
     "output_type": "stream",
     "text": [
      "(0, '0.016*\"caterpillar\" + 0.012*\"company\" + 0.012*\"share\" + 0.008*\"product\" + 0.008*\"industrial\" + 0.008*\"stock\" + 0.007*\"cart\" + 0.006*\"rating\" + 0.006*\"forklift\" + 0.005*\"quarter\"')\n",
      "\n",
      "(1, '0.011*\"sphere\" + 0.010*\"amazon\" + 0.010*\"seattle\" + 0.006*\"2018\" + 0.006*\"monday\" + 0.006*\"grand\" + 0.006*\"opening\" + 0.005*\"29\" + 0.005*\"bezos\" + 0.005*\"house\"')\n",
      "\n",
      "(2, '0.023*\"market\" + 0.014*\"plant\" + 0.008*\"case\" + 0.007*\"industry\" + 0.007*\"report\" + 0.005*\"also\" + 0.005*\"growth\" + 0.005*\"analysis\" + 0.005*\"wardian\" + 0.005*\"truck\"')\n",
      "\n",
      "(3, '0.011*\"tax\" + 0.009*\"u\" + 0.007*\"city\" + 0.006*\"company\" + 0.005*\"median\" + 0.005*\"state\" + 0.005*\"estimate\" + 0.005*\"china\" + 0.005*\"university\" + 0.005*\"2017\"')\n",
      "\n",
      "(4, '0.011*\"inc\" + 0.010*\"jan\" + 0.006*\"iot\" + 0.005*\"blade\" + 0.005*\"support\" + 0.005*\"skid\" + 0.004*\"2018\" + 0.004*\"pusher\" + 0.004*\"corp\" + 0.004*\"oct\"')\n"
     ]
    }
   ],
   "source": [
    "print(*ldamodel.print_topics(num_topics=numtopics, num_words=10), sep='\\n\\n')"
   ]
  },
  {
   "cell_type": "markdown",
   "metadata": {},
   "source": [
    "#### 10 topic model"
   ]
  },
  {
   "cell_type": "code",
   "execution_count": 78,
   "metadata": {},
   "outputs": [
    {
     "name": "stdout",
     "output_type": "stream",
     "text": [
      "CPU times: user 1min 47s, sys: 1.14 s, total: 1min 48s\n",
      "Wall time: 1min\n"
     ]
    }
   ],
   "source": [
    "# Creating the object for LDA model using gensim library\n",
    "Lda = gensim.models.ldamodel.LdaModel\n",
    "numtopics = 10\n",
    "\n",
    "# Running and Trainign LDA model on the document term matrix.\n",
    "%time ldamodel = Lda(doc_term_matrix, num_topics=numtopics, id2word = dictionary, passes=50)"
   ]
  },
  {
   "cell_type": "code",
   "execution_count": 79,
   "metadata": {},
   "outputs": [
    {
     "name": "stdout",
     "output_type": "stream",
     "text": [
      "(0, '0.018*\"company\" + 0.016*\"health\" + 0.011*\"new\"')\n",
      "\n",
      "(1, '0.016*\"coating\" + 0.016*\"biopolymer\" + 0.010*\"year\"')\n",
      "\n",
      "(2, '0.014*\"median\" + 0.014*\"city\" + 0.013*\"estimate\"')\n",
      "\n",
      "(3, '0.015*\"company\" + 0.014*\"caterpillar\" + 0.012*\"share\"')\n",
      "\n",
      "(4, '0.016*\"jan\" + 0.014*\"sphere\" + 0.014*\"inc\"')\n",
      "\n",
      "(5, '0.017*\"tax\" + 0.013*\"plant\" + 0.012*\"u\"')\n",
      "\n",
      "(6, '0.014*\"house\" + 0.005*\"caterpillar\" + 0.005*\"like\"')\n",
      "\n",
      "(7, '0.041*\"market\" + 0.012*\"industry\" + 0.012*\"report\"')\n",
      "\n",
      "(8, '0.011*\"2018\" + 0.009*\"et\" + 0.008*\"jan\"')\n",
      "\n",
      "(9, '0.011*\"operation\" + 0.010*\"share\" + 0.009*\"cart\"')\n"
     ]
    }
   ],
   "source": [
    "print(*ldamodel.print_topics(num_topics=numtopics, num_words=3), sep='\\n\\n')"
   ]
  },
  {
   "cell_type": "code",
   "execution_count": 80,
   "metadata": {},
   "outputs": [
    {
     "name": "stdout",
     "output_type": "stream",
     "text": [
      "(0, '0.018*\"company\" + 0.016*\"health\" + 0.011*\"new\" + 0.010*\"care\" + 0.010*\"employee\"')\n",
      "\n",
      "(1, '0.016*\"coating\" + 0.016*\"biopolymer\" + 0.010*\"year\" + 0.010*\"planer\" + 0.010*\"cold\"')\n",
      "\n",
      "(2, '0.014*\"median\" + 0.014*\"city\" + 0.013*\"estimate\" + 0.013*\"university\" + 0.011*\"2017\"')\n",
      "\n",
      "(3, '0.015*\"company\" + 0.014*\"caterpillar\" + 0.012*\"share\" + 0.008*\"stock\" + 0.008*\"product\"')\n",
      "\n",
      "(4, '0.016*\"jan\" + 0.014*\"sphere\" + 0.014*\"inc\" + 0.014*\"amazon\" + 0.013*\"seattle\"')\n",
      "\n",
      "(5, '0.017*\"tax\" + 0.013*\"plant\" + 0.012*\"u\" + 0.008*\"case\" + 0.007*\"china\"')\n",
      "\n",
      "(6, '0.014*\"house\" + 0.005*\"caterpillar\" + 0.005*\"like\" + 0.005*\"accounting\" + 0.005*\"one\"')\n",
      "\n",
      "(7, '0.041*\"market\" + 0.012*\"industry\" + 0.012*\"report\" + 0.009*\"analysis\" + 0.008*\"growth\"')\n",
      "\n",
      "(8, '0.011*\"2018\" + 0.009*\"et\" + 0.008*\"jan\" + 0.006*\"2\" + 0.006*\"2017\"')\n",
      "\n",
      "(9, '0.011*\"operation\" + 0.010*\"share\" + 0.009*\"cart\" + 0.009*\"jan\" + 0.008*\"forklift\"')\n"
     ]
    }
   ],
   "source": [
    "print(*ldamodel.print_topics(num_topics=numtopics, num_words=5), sep='\\n\\n')"
   ]
  },
  {
   "cell_type": "code",
   "execution_count": 81,
   "metadata": {},
   "outputs": [
    {
     "name": "stdout",
     "output_type": "stream",
     "text": [
      "(0, '0.018*\"company\" + 0.016*\"health\" + 0.011*\"new\" + 0.010*\"care\" + 0.010*\"employee\" + 0.009*\"cost\" + 0.008*\"healthcare\"')\n",
      "\n",
      "(1, '0.016*\"coating\" + 0.016*\"biopolymer\" + 0.010*\"year\" + 0.010*\"planer\" + 0.010*\"cold\" + 0.005*\"image\" + 0.005*\"million\"')\n",
      "\n",
      "(2, '0.014*\"median\" + 0.014*\"city\" + 0.013*\"estimate\" + 0.013*\"university\" + 0.011*\"2017\" + 0.010*\"town\" + 0.009*\"state\"')\n",
      "\n",
      "(3, '0.015*\"company\" + 0.014*\"caterpillar\" + 0.012*\"share\" + 0.008*\"stock\" + 0.008*\"product\" + 0.008*\"iot\" + 0.006*\"rating\"')\n",
      "\n",
      "(4, '0.016*\"jan\" + 0.014*\"sphere\" + 0.014*\"inc\" + 0.014*\"amazon\" + 0.013*\"seattle\" + 0.009*\"29\" + 0.007*\"monday\"')\n",
      "\n",
      "(5, '0.017*\"tax\" + 0.013*\"plant\" + 0.012*\"u\" + 0.008*\"case\" + 0.007*\"china\" + 0.006*\"repatriation\" + 0.006*\"year\"')\n",
      "\n",
      "(6, '0.014*\"house\" + 0.005*\"caterpillar\" + 0.005*\"like\" + 0.005*\"accounting\" + 0.005*\"one\" + 0.004*\"phone\" + 0.004*\"architect\"')\n",
      "\n",
      "(7, '0.041*\"market\" + 0.012*\"industry\" + 0.012*\"report\" + 0.009*\"analysis\" + 0.008*\"growth\" + 0.007*\"state\" + 0.006*\"product\"')\n",
      "\n",
      "(8, '0.011*\"2018\" + 0.009*\"et\" + 0.008*\"jan\" + 0.006*\"2\" + 0.006*\"2017\" + 0.005*\"am\" + 0.004*\"pm\"')\n",
      "\n",
      "(9, '0.011*\"operation\" + 0.010*\"share\" + 0.009*\"cart\" + 0.009*\"jan\" + 0.008*\"forklift\" + 0.007*\"manufacturing\" + 0.007*\"topper\"')\n"
     ]
    }
   ],
   "source": [
    "print(*ldamodel.print_topics(num_topics=numtopics, num_words=7), sep='\\n\\n')"
   ]
  },
  {
   "cell_type": "code",
   "execution_count": 83,
   "metadata": {},
   "outputs": [
    {
     "name": "stdout",
     "output_type": "stream",
     "text": [
      "(0, '0.018*\"company\" + 0.016*\"health\" + 0.011*\"new\" + 0.010*\"care\" + 0.010*\"employee\" + 0.009*\"cost\" + 0.008*\"healthcare\" + 0.006*\"may\" + 0.006*\"inc\" + 0.006*\"jpmorgan\"')\n",
      "\n",
      "(1, '0.016*\"coating\" + 0.016*\"biopolymer\" + 0.010*\"year\" + 0.010*\"planer\" + 0.010*\"cold\" + 0.005*\"image\" + 0.005*\"million\" + 0.004*\"might\" + 0.004*\"like\" + 0.004*\"getty\"')\n",
      "\n",
      "(2, '0.014*\"median\" + 0.014*\"city\" + 0.013*\"estimate\" + 0.013*\"university\" + 0.011*\"2017\" + 0.010*\"town\" + 0.009*\"state\" + 0.008*\"zillow\" + 0.007*\"major\" + 0.007*\"home\"')\n",
      "\n",
      "(3, '0.015*\"company\" + 0.014*\"caterpillar\" + 0.012*\"share\" + 0.008*\"stock\" + 0.008*\"product\" + 0.008*\"iot\" + 0.006*\"rating\" + 0.006*\"blade\" + 0.006*\"pusher\" + 0.005*\"end\"')\n",
      "\n",
      "(4, '0.016*\"jan\" + 0.014*\"sphere\" + 0.014*\"inc\" + 0.014*\"amazon\" + 0.013*\"seattle\" + 0.009*\"29\" + 0.007*\"monday\" + 0.007*\"grand\" + 0.007*\"opening\" + 0.007*\"2018\"')\n",
      "\n",
      "(5, '0.017*\"tax\" + 0.013*\"plant\" + 0.012*\"u\" + 0.008*\"case\" + 0.007*\"china\" + 0.006*\"repatriation\" + 0.006*\"year\" + 0.005*\"one\" + 0.005*\"would\" + 0.005*\"profit\"')\n",
      "\n",
      "(6, '0.014*\"house\" + 0.005*\"caterpillar\" + 0.005*\"like\" + 0.005*\"accounting\" + 0.005*\"one\" + 0.004*\"phone\" + 0.004*\"architect\" + 0.004*\"way\" + 0.004*\"home\" + 0.003*\"design\"')\n",
      "\n",
      "(7, '0.041*\"market\" + 0.012*\"industry\" + 0.012*\"report\" + 0.009*\"analysis\" + 0.008*\"growth\" + 0.007*\"state\" + 0.006*\"product\" + 0.006*\"also\" + 0.006*\"key\" + 0.006*\"skid\"')\n",
      "\n",
      "(8, '0.011*\"2018\" + 0.009*\"et\" + 0.008*\"jan\" + 0.006*\"2\" + 0.006*\"2017\" + 0.005*\"am\" + 0.004*\"pm\" + 0.004*\"space\" + 0.004*\"gas\" + 0.003*\"zackscom\"')\n",
      "\n",
      "(9, '0.011*\"operation\" + 0.010*\"share\" + 0.009*\"cart\" + 0.009*\"jan\" + 0.008*\"forklift\" + 0.007*\"manufacturing\" + 0.007*\"topper\" + 0.007*\"product\" + 0.007*\"material\" + 0.006*\"project\"')\n"
     ]
    }
   ],
   "source": [
    "print(*ldamodel.print_topics(num_topics=numtopics, num_words=10), sep='\\n\\n')"
   ]
  },
  {
   "cell_type": "markdown",
   "metadata": {
    "collapsed": true
   },
   "source": [
    "#### 15 topic model"
   ]
  },
  {
   "cell_type": "code",
   "execution_count": 86,
   "metadata": {},
   "outputs": [
    {
     "name": "stdout",
     "output_type": "stream",
     "text": [
      "CPU times: user 1min 51s, sys: 1.23 s, total: 1min 52s\n",
      "Wall time: 1min 3s\n"
     ]
    }
   ],
   "source": [
    "# Creating the object for LDA model using gensim library\n",
    "Lda = gensim.models.ldamodel.LdaModel\n",
    "numtopics = 15\n",
    "\n",
    "# Running and Trainign LDA model on the document term matrix.\n",
    "%time ldamodel = Lda(doc_term_matrix, num_topics=numtopics, id2word = dictionary, passes=50)"
   ]
  },
  {
   "cell_type": "code",
   "execution_count": 87,
   "metadata": {},
   "outputs": [
    {
     "name": "stdout",
     "output_type": "stream",
     "text": [
      "(0, '0.009*\"year\" + 0.007*\"project\" + 0.006*\"caterpillar\" + 0.005*\"phone\" + 0.005*\"product\" + 0.005*\"part\" + 0.004*\"facility\" + 0.004*\"manufacturing\" + 0.004*\"process\" + 0.004*\"6\"')\n",
      "\n",
      "(1, '0.011*\"city\" + 0.010*\"sphere\" + 0.010*\"median\" + 0.010*\"amazon\" + 0.010*\"seattle\" + 0.009*\"estimate\" + 0.009*\"university\" + 0.008*\"2017\" + 0.007*\"town\" + 0.007*\"state\"')\n",
      "\n",
      "(2, '0.055*\"market\" + 0.018*\"industry\" + 0.016*\"report\" + 0.012*\"growth\" + 0.012*\"analysis\" + 0.009*\"product\" + 0.009*\"vehicle\" + 0.009*\"key\" + 0.008*\"construction\" + 0.008*\"turbocharger\"')\n",
      "\n",
      "(3, '0.010*\"2\" + 0.006*\"space\" + 0.005*\"tower\" + 0.005*\"super\" + 0.005*\"last\" + 0.004*\"dungeon\" + 0.004*\"game\" + 0.003*\"call\" + 0.003*\"museum\" + 0.003*\"adventure\"')\n",
      "\n",
      "(4, '0.038*\"market\" + 0.027*\"biopolymer\" + 0.027*\"coating\" + 0.016*\"machinery\" + 0.015*\"road\" + 0.014*\"report\" + 0.008*\"study\" + 0.008*\"segment\" + 0.007*\"type\" + 0.007*\"region\"')\n",
      "\n",
      "(5, '0.010*\"canna\" + 0.009*\"post\" + 0.008*\"accounting\" + 0.007*\"caterpillar\" + 0.006*\"van\" + 0.006*\"stank\" + 0.006*\"support\" + 0.006*\"bowl\" + 0.006*\"nismo\" + 0.006*\"liked\"')\n",
      "\n",
      "(6, '0.011*\"truck\" + 0.009*\"excavator\" + 0.009*\"fit\" + 0.008*\"sold\" + 0.008*\"machine\" + 0.006*\"john\" + 0.006*\"thumb\" + 0.006*\"deere\" + 0.006*\"bulldozer\" + 0.006*\"backhoe\"')\n",
      "\n",
      "(7, '0.013*\"company\" + 0.011*\"blade\" + 0.011*\"pusher\" + 0.011*\"health\" + 0.009*\"2018\" + 0.009*\"et\" + 0.009*\"rubber\" + 0.009*\"new\" + 0.008*\"jan\" + 0.008*\"end\"')\n",
      "\n",
      "(8, '0.023*\"caterpillar\" + 0.020*\"share\" + 0.018*\"company\" + 0.014*\"stock\" + 0.011*\"rating\" + 0.010*\"quarter\" + 0.009*\"product\" + 0.007*\"price\" + 0.007*\"industrial\" + 0.007*\"inc\"')\n",
      "\n",
      "(9, '0.016*\"house\" + 0.006*\"like\" + 0.006*\"one\" + 0.005*\"home\" + 0.004*\"gas\" + 0.004*\"power\" + 0.004*\"located\" + 0.004*\"world\" + 0.004*\"new\" + 0.004*\"company\"')\n",
      "\n",
      "(10, '0.037*\"plant\" + 0.021*\"case\" + 0.012*\"wardian\" + 0.012*\"share\" + 0.011*\"terrarium\" + 0.011*\"operation\" + 0.010*\"jan\" + 0.010*\"care\" + 0.008*\"water\" + 0.008*\"soil\"')\n",
      "\n",
      "(11, '0.026*\"tax\" + 0.018*\"u\" + 0.010*\"china\" + 0.010*\"repatriation\" + 0.008*\"would\" + 0.007*\"profit\" + 0.007*\"foreign\" + 0.007*\"say\" + 0.006*\"corporate\" + 0.006*\"rate\"')\n",
      "\n",
      "(12, '0.014*\"bucket\" + 0.013*\"grader\" + 0.009*\"grapple\" + 0.009*\"skid\" + 0.008*\"steer\" + 0.007*\"attachment\" + 0.007*\"u\" + 0.006*\"brush\" + 0.006*\"mn\" + 0.006*\"also\"')\n",
      "\n",
      "(13, '0.028*\"cart\" + 0.022*\"topper\" + 0.019*\"industrial\" + 0.014*\"material\" + 0.013*\"line\" + 0.013*\"product\" + 0.011*\"handling\" + 0.010*\"container\" + 0.009*\"production\" + 0.008*\"operator\"')\n",
      "\n",
      "(14, '0.019*\"inc\" + 0.013*\"jan\" + 0.011*\"iot\" + 0.007*\"corp\" + 0.007*\"mnubo\" + 0.007*\"dec\" + 0.006*\"robot\" + 0.006*\"nov\" + 0.006*\"company\" + 0.005*\"oct\"')\n"
     ]
    }
   ],
   "source": [
    "print(*ldamodel.print_topics(num_topics=numtopics, num_words=10), sep='\\n\\n')"
   ]
  },
  {
   "cell_type": "markdown",
   "metadata": {},
   "source": [
    "#### 20 topic models"
   ]
  },
  {
   "cell_type": "code",
   "execution_count": 88,
   "metadata": {},
   "outputs": [
    {
     "name": "stdout",
     "output_type": "stream",
     "text": [
      "CPU times: user 1min 49s, sys: 927 ms, total: 1min 50s\n",
      "Wall time: 1min 2s\n"
     ]
    }
   ],
   "source": [
    "# Creating the object for LDA model using gensim library\n",
    "Lda = gensim.models.ldamodel.LdaModel\n",
    "numtopics = 20\n",
    "\n",
    "# Running and Trainign LDA model on the document term matrix.\n",
    "%time ldamodel = Lda(doc_term_matrix, num_topics=numtopics, id2word = dictionary, passes=50)"
   ]
  },
  {
   "cell_type": "code",
   "execution_count": 89,
   "metadata": {},
   "outputs": [
    {
     "name": "stdout",
     "output_type": "stream",
     "text": [
      "(0, '0.019*\"sphere\" + 0.018*\"amazon\" + 0.017*\"seattle\" + 0.010*\"monday\" + 0.010*\"grand\" + 0.010*\"opening\" + 0.009*\"29\" + 0.009*\"2018\" + 0.009*\"bezos\" + 0.009*\"jan\"')\n",
      "\n",
      "(1, '0.004*\"beach\" + 0.004*\"outdoor\" + 0.004*\"compatriot\" + 0.004*\"body\" + 0.004*\"legend\" + 0.004*\"buyer\" + 0.004*\"specialty\" + 0.004*\"science\" + 0.002*\"terrain\" + 0.002*\"monolith\"')\n",
      "\n",
      "(2, '0.012*\"plate\" + 0.009*\"cutting\" + 0.007*\"torch\" + 0.007*\"bale\" + 0.006*\"crane\" + 0.006*\"quick\" + 0.006*\"cut\" + 0.006*\"steel\" + 0.006*\"grapple\" + 0.006*\"bucket\"')\n",
      "\n",
      "(3, '0.031*\"forklift\" + 0.017*\"autonomous\" + 0.015*\"truck\" + 0.013*\"haul\" + 0.011*\"rio\" + 0.010*\"tire\" + 0.007*\"komatsu\" + 0.007*\"fleet\" + 0.006*\"tinto\" + 0.006*\"tintos\"')\n",
      "\n",
      "(4, '0.035*\"plant\" + 0.021*\"case\" + 0.012*\"wardian\" + 0.011*\"house\" + 0.011*\"terrarium\" + 0.010*\"care\" + 0.009*\"home\" + 0.009*\"one\" + 0.008*\"water\" + 0.008*\"soil\"')\n",
      "\n",
      "(5, '0.012*\"mn\" + 0.012*\"attachment\" + 0.012*\"steer\" + 0.012*\"skid\" + 0.010*\"tax\" + 0.008*\"state\" + 0.008*\"tree\" + 0.008*\"bucket\" + 0.008*\"landscape\" + 0.008*\"broom\"')\n",
      "\n",
      "(6, '0.017*\"2018\" + 0.016*\"et\" + 0.014*\"jan\" + 0.010*\"demolition\" + 0.010*\"am\" + 0.010*\"shear\" + 0.009*\"pm\" + 0.009*\"2017\" + 0.008*\"product\" + 0.008*\"analysis\"')\n",
      "\n",
      "(7, '0.000*\"case\" + 0.000*\"plant\" + 0.000*\"wardian\" + 0.000*\"frequently\" + 0.000*\"tax\" + 0.000*\"year\" + 0.000*\"care\" + 0.000*\"u\" + 0.000*\"one\" + 0.000*\"terrarium\"')\n",
      "\n",
      "(8, '0.008*\"inventory\" + 0.006*\"receipt\" + 0.006*\"facility\" + 0.006*\"reconciliation\" + 0.006*\"management\" + 0.006*\"logistics\" + 0.005*\"part\" + 0.004*\"record\" + 0.004*\"warehouse\" + 0.004*\"client\"')\n",
      "\n",
      "(9, '0.025*\"machinery\" + 0.022*\"road\" + 0.013*\"market\" + 0.012*\"report\" + 0.009*\"type\" + 0.008*\"segment\" + 0.007*\"company\" + 0.007*\"major\" + 0.007*\"product\" + 0.006*\"revenue\"')\n",
      "\n",
      "(10, '0.011*\"bucket\" + 0.010*\"program\" + 0.009*\"food\" + 0.008*\"local\" + 0.006*\"grapple\" + 0.006*\"mower\" + 0.006*\"city\" + 0.005*\"lake\" + 0.005*\"farmer\" + 0.005*\"microgrant\"')\n",
      "\n",
      "(11, '0.019*\"manufacturing\" + 0.012*\"process\" + 0.011*\"provide\" + 0.010*\"work\" + 0.009*\"requirement\" + 0.008*\"job\" + 0.007*\"project\" + 0.007*\"caterpillar\" + 0.007*\"video\" + 0.006*\"system\"')\n",
      "\n",
      "(12, '0.026*\"cart\" + 0.020*\"topper\" + 0.017*\"industrial\" + 0.013*\"material\" + 0.012*\"product\" + 0.012*\"line\" + 0.009*\"container\" + 0.009*\"handling\" + 0.008*\"operator\" + 0.008*\"production\"')\n",
      "\n",
      "(13, '0.015*\"median\" + 0.015*\"city\" + 0.014*\"estimate\" + 0.013*\"university\" + 0.012*\"2017\" + 0.011*\"town\" + 0.010*\"state\" + 0.008*\"zillow\" + 0.007*\"major\" + 0.007*\"home\"')\n",
      "\n",
      "(14, '0.027*\"inc\" + 0.016*\"jan\" + 0.011*\"company\" + 0.010*\"health\" + 0.009*\"corp\" + 0.009*\"dec\" + 0.007*\"nov\" + 0.007*\"oct\" + 0.007*\"etf\" + 0.007*\"care\"')\n",
      "\n",
      "(15, '0.011*\"grader\" + 0.011*\"year\" + 0.008*\"market\" + 0.007*\"million\" + 0.006*\"system\" + 0.006*\"new\" + 0.006*\"also\" + 0.005*\"global\" + 0.005*\"construction\" + 0.005*\"report\"')\n",
      "\n",
      "(16, '0.052*\"market\" + 0.015*\"industry\" + 0.012*\"analysis\" + 0.012*\"report\" + 0.009*\"growth\" + 0.008*\"biopolymer\" + 0.008*\"coating\" + 0.008*\"state\" + 0.007*\"united\" + 0.007*\"key\"')\n",
      "\n",
      "(17, '0.010*\"caterpillar\" + 0.009*\"canna\" + 0.008*\"post\" + 0.007*\"phone\" + 0.006*\"stank\" + 0.006*\"van\" + 0.005*\"others\" + 0.005*\"arctic\" + 0.005*\"bowl\" + 0.005*\"epic\"')\n",
      "\n",
      "(18, '0.022*\"share\" + 0.021*\"operation\" + 0.021*\"jan\" + 0.011*\"fit\" + 0.010*\"26\" + 0.010*\"company\" + 0.010*\"new\" + 0.010*\"excavator\" + 0.010*\"sold\" + 0.008*\"deere\"')\n",
      "\n",
      "(19, '0.016*\"tax\" + 0.012*\"company\" + 0.011*\"u\" + 0.008*\"china\" + 0.007*\"caterpillar\" + 0.007*\"share\" + 0.007*\"product\" + 0.006*\"repatriation\" + 0.006*\"global\" + 0.006*\"year\"')\n"
     ]
    }
   ],
   "source": [
    "print(*ldamodel.print_topics(num_topics=numtopics, num_words=10), sep='\\n\\n')"
   ]
  },
  {
   "cell_type": "markdown",
   "metadata": {},
   "source": [
    "#### As can be seen that when we choose N = 20, there starts to have similarities between topic 4 and 7.                                               Hence we might want to choose the N = 15, in order to keep a balance between the comprehensiveness and duplicates."
   ]
  },
  {
   "cell_type": "code",
   "execution_count": null,
   "metadata": {
    "collapsed": true
   },
   "outputs": [],
   "source": []
  }
 ],
 "metadata": {
  "anaconda-cloud": {},
  "kernelspec": {
   "display_name": "Python 3",
   "language": "python",
   "name": "python3"
  },
  "language_info": {
   "codemirror_mode": {
    "name": "ipython",
    "version": 3
   },
   "file_extension": ".py",
   "mimetype": "text/x-python",
   "name": "python",
   "nbconvert_exporter": "python",
   "pygments_lexer": "ipython3",
   "version": "3.6.3"
  }
 },
 "nbformat": 4,
 "nbformat_minor": 1
}
