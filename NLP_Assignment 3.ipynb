{
 "cells": [
  {
   "cell_type": "markdown",
   "metadata": {},
   "source": [
    "## Importing Libraries"
   ]
  },
  {
   "cell_type": "markdown",
   "metadata": {},
   "source": [
    "In this notebook, I'll examine the impact of choosing n in n-grams across two libraries of texts. Onelibrary is comprised of several full-length novels, while another consists of articles of varying lenghts. We'll ﬁrst deﬁne several helper functions that will be re-used throughout this process (each one is commented). Then we'll proceed to evaluate our choice of n, per library, and then ﬁnally, use that n-value to compare ourlibrary of texts and return Jaccard similarity values for the more similiar texts."
   ]
  },
  {
   "cell_type": "code",
   "execution_count": 2,
   "metadata": {
    "scrolled": true
   },
   "outputs": [
    {
     "name": "stdout",
     "output_type": "stream",
     "text": [
      "Populating the interactive namespace from numpy and matplotlib\n"
     ]
    }
   ],
   "source": [
    "from __future__ import division\n",
    "import nltk\n",
    "import string\n",
    "import os\n",
    "from nltk.corpus import stopwords\n",
    "from itertools import combinations\n",
    "import pylab\n",
    "import pandoc\n",
    "%pylab inline"
   ]
  },
  {
   "cell_type": "markdown",
   "metadata": {},
   "source": [
    "## Defining Functions"
   ]
  },
  {
   "cell_type": "code",
   "execution_count": 3,
   "metadata": {
    "collapsed": true
   },
   "outputs": [],
   "source": [
    "def ngram_compare_files(file1,file2,n):\n",
    "    # Takes two files\n",
    "    # hashes their n-grams into twos lists\n",
    "    # calculates the intersection and union\n",
    "    # of the two lists, and returns\n",
    "    # Jacard similarity value\n",
    " \n",
    "    stop = stopwords.words('english')\n",
    "    f1 = open(file1)\n",
    "    raw = f1.read()\n",
    "    f1.close()\n",
    "    f1_grams = nltk.ngrams(raw.split(),n)\n",
    "    \n",
    "    array_1 = []\n",
    "    \n",
    "    for gram in f1_grams:\n",
    "        array_1.append(hash(gram))\n",
    "    f2 = open(file2)\n",
    "    raw = f2.read()\n",
    "    f2.close()\n",
    "    f2_grams = nltk.ngrams(raw.split(),n)\n",
    "    \n",
    "    array_2 = []\n",
    "    \n",
    "    for gram in f2_grams:\n",
    "        array_2.append(hash(gram))\n",
    "        \n",
    "    intersection = len(list(set(array_1).intersection(array_2)) )\n",
    "    union = len(array_1) + len(array_2) - intersection\n",
    "    jacard_similarity = intersection / union\n",
    "    return jacard_similarity\n",
    "\n",
    "def pairs_of_files(directory):\n",
    "    # returns combination of two files given\n",
    "    # all files in a directory\n",
    "    \n",
    "    dir = os.listdir(directory)\n",
    "    combo = combinations(dir, 2)\n",
    "    return combo\n",
    "\n",
    "def compare_files(directory,ngram_size,threshold):\n",
    "    # compares all pairs of files in a directory\n",
    "    # for similarity.\n",
    "    # RETURNS: Dictionary, with key as\n",
    "    # comma-separated string of two files\n",
    "    # and value of similarity index as decimal\n",
    "    # where similarity index is above threshold\n",
    "    # value.\n",
    "    \n",
    "    compare_dictionary = {}\n",
    "    \n",
    "    ngram = ngram_size\n",
    "    combo = pairs_of_files(directory)\n",
    "    \n",
    "    for i in combo:\n",
    "        \n",
    "        sim = ngram_compare_files(directory+str(i[0]),directory+str(i[1]),ngram)\n",
    "        if sim > threshold:\n",
    "            \n",
    "            key = str(i[0]) + \",\" + str(i[1])\n",
    "            value = sim\n",
    "            compare_dictionary[key]=value\n",
    "            \n",
    "    return compare_dictionary            "
   ]
  },
  {
   "cell_type": "markdown",
   "metadata": {},
   "source": [
    "## Choosing 'N'"
   ]
  },
  {
   "cell_type": "markdown",
   "metadata": {},
   "source": [
    "In order to determine a proper N-value for a n-grams, we evaluate the impact of N over a range of 2 to 20.\n",
    "We do this by repeating our similarity measure (Jaccardian similarity) for each N, and plotting similairity."
   ]
  },
  {
   "cell_type": "markdown",
   "metadata": {},
   "source": [
    "### Running for Books"
   ]
  },
  {
   "cell_type": "code",
   "execution_count": 4,
   "metadata": {
    "collapsed": true
   },
   "outputs": [],
   "source": [
    "x = []\n",
    "y = []\n",
    "for n in range(2,21):\n",
    "        \n",
    "    books_comparison = compare_files('/Users/gaoweijie/Documents/Winter/NLP/Assignment3/Books/',ngram_size=n,threshold=-1)\n",
    "    a = np.zeros(len(books_comparison))\n",
    "    counter = 0\n",
    "    for key, value in books_comparison.items():\n",
    "        a[counter] = value\n",
    "        counter +=1\n",
    "    #print str(n) + \":\" + str(a.mean())\n",
    "    x.append(n)\n",
    "    y.append(a.mean()*100)"
   ]
  },
  {
   "cell_type": "markdown",
   "metadata": {},
   "source": [
    "Plot the distributions"
   ]
  },
  {
   "cell_type": "code",
   "execution_count": 5,
   "metadata": {},
   "outputs": [
    {
     "data": {
      "text/plain": [
       "<matplotlib.text.Text at 0x11406ab10>"
      ]
     },
     "execution_count": 5,
     "metadata": {},
     "output_type": "execute_result"
    },
    {
     "data": {
      "image/png": "[encoded data removed]",
      "text/plain": [
       "<matplotlib.figure.Figure at 0x113a43990>"
      ]
     },
     "metadata": {},
     "output_type": "display_data"
    }
   ],
   "source": [
    "pylab.plot(x,y)\n",
    "pylab.xlabel('n in n-grams')\n",
    "pylab.ylabel('Mean Similarity (pct)')\n",
    "pylab.title('Mean Similarity Across All Books per N n-gram')"
   ]
  },
  {
   "cell_type": "markdown",
   "metadata": {},
   "source": [
    "### Running for Articles"
   ]
  },
  {
   "cell_type": "code",
   "execution_count": 8,
   "metadata": {
    "collapsed": true
   },
   "outputs": [],
   "source": [
    "x = []\n",
    "y = []\n",
    "for n in range(2,21):\n",
    "    \n",
    "    art_comparison = compare_files('/Users/gaoweijie/Documents/Winter/NLP/Assignment3/Articles/',ngram_size=n,threshold=-1)\n",
    "    a = np.zeros(len(art_comparison))\n",
    "    counter = 0\n",
    "    for key, value in art_comparison.items():\n",
    "        a[counter] = value\n",
    "        counter +=1\n",
    "    #print str(n) + \":\" + str(a.mean())\n",
    "    x.append(n)\n",
    "    y.append(a.mean()*100)"
   ]
  },
  {
   "cell_type": "code",
   "execution_count": 9,
   "metadata": {},
   "outputs": [
    {
     "data": {
      "text/plain": [
       "<matplotlib.text.Text at 0x113e97290>"
      ]
     },
     "execution_count": 9,
     "metadata": {},
     "output_type": "execute_result"
    },
    {
     "data": {
      "image/png": "[encoded data removed]",
      "text/plain": [
       "<matplotlib.figure.Figure at 0x109187590>"
      ]
     },
     "metadata": {},
     "output_type": "display_data"
    }
   ],
   "source": [
    "pylab.plot(x,y)\n",
    "pylab.xlabel('n in n-grams')\n",
    "pylab.ylabel('Mean Similarity (pct)')\n",
    "pylab.title('Mean Similarity Across All Articles per N n-gram')"
   ]
  },
  {
   "cell_type": "markdown",
   "metadata": {},
   "source": [
    "## Books measuring similarity"
   ]
  },
  {
   "cell_type": "markdown",
   "metadata": {},
   "source": [
    "After having our n for books chosen as 3, we'll examine the similairty of our set of books, and use a\n",
    "threshold value of 0. This threshold value will filter our any books with similarities below that value, in order\n",
    "to allow us to focus on the most promininent combinations of books that are similar."
   ]
  },
  {
   "cell_type": "code",
   "execution_count": 7,
   "metadata": {},
   "outputs": [
    {
     "name": "stdout",
     "output_type": "stream",
     "text": [
      "Adventures_of_Sherlock_Holmes.txt is similar to Return_of_Sherlock_Holmes.txt with a Similarity Index of 5.000%\n",
      "\n",
      "\n",
      "3boat10.txt is similar to Adventures_of_Sherlock_Holmes.txt with a Similarity Index of 2.036%\n",
      "\n",
      "\n",
      "Hound_of_the_Baskervilles.txt is similar to Return_of_Sherlock_Holmes.txt with a Similarity Index of 4.710%\n",
      "\n",
      "\n",
      "3boat10.txt is similar to Return_of_Sherlock_Holmes.txt with a Similarity Index of 1.978%\n",
      "\n",
      "\n",
      "3boat10.txt is similar to Hound_of_the_Baskervilles.txt with a Similarity Index of 1.808%\n",
      "\n",
      "\n",
      "Adventures_of_Sherlock_Holmes.txt is similar to Hound_of_the_Baskervilles.txt with a Similarity Index of 4.620%\n",
      "\n",
      "\n"
     ]
    }
   ],
   "source": [
    "books_comparison = compare_files('/Users/gaoweijie/Documents/Winter/NLP/Assignment3/Books/',ngram_size=3,threshold=0)\n",
    "\n",
    "for k,v in books_comparison.items():\n",
    "    book1, book2 = k.split(',')\n",
    "    similarity_index = v\n",
    "    print (str(book1) + \" is similar to \" + str(book2) + \n",
    "           \" with a Similarity Index of \" + '{percent:.3%}'.format(percent=similarity_index) +\"\\n\" +\"\\n\")"
   ]
  },
  {
   "cell_type": "markdown",
   "metadata": {},
   "source": [
    "## Articles measuring similarity"
   ]
  },
  {
   "cell_type": "markdown",
   "metadata": {},
   "source": [
    "After having our n for articles chosen as 3, we'll examine the similairty of our set of articles, and use a\n",
    "threshold value of 0.05. This threshold value will filter our any articles with similarities below that value, in\n",
    "order to allow us to focus on the most promininent combinations of articles that are similar."
   ]
  },
  {
   "cell_type": "code",
   "execution_count": 10,
   "metadata": {},
   "outputs": [
    {
     "name": "stdout",
     "output_type": "stream",
     "text": [
      "article10.txt is similar to article13.txt with a Similarity Index of 21.798%\n",
      "article10.txt is similar to article6.txt with a Similarity Index of 6.150%\n",
      "article28.txt is similar to article31.txt with a Similarity Index of 8.427%\n",
      "article26.txt is similar to article28.txt with a Similarity Index of 9.589%\n",
      "article26.txt is similar to article31.txt with a Similarity Index of 7.947%\n",
      "article14.txt is similar to article6.txt with a Similarity Index of 8.103%\n",
      "article3.txt is similar to article4.txt with a Similarity Index of 13.333%\n",
      "article16.txt is similar to article17.txt with a Similarity Index of 71.859%\n"
     ]
    }
   ],
   "source": [
    "articles_comparison = compare_files('/Users/gaoweijie/Documents/Winter/NLP/Assignment3/Articles/',ngram_size=3,threshold=0.05)\n",
    "\n",
    "for k,v in articles_comparison.items():\n",
    "    art1, art2 = k.split(',')\n",
    "    similarity_index = v\n",
    "    print (str(art1) + \" is similar to \" + str(art2) + \n",
    "           \" with a Similarity Index of \" + '{percent:.3%}'.format(percent=similarity_index))"
   ]
  },
  {
   "cell_type": "code",
   "execution_count": null,
   "metadata": {
    "collapsed": true
   },
   "outputs": [],
   "source": []
  }
 ],
 "metadata": {
  "kernelspec": {
   "display_name": "Python 3",
   "language": "python",
   "name": "python3"
  },
  "language_info": {
   "codemirror_mode": {
    "name": "ipython",
    "version": 3
   },
   "file_extension": ".py",
   "mimetype": "text/x-python",
   "name": "python",
   "nbconvert_exporter": "python",
   "pygments_lexer": "ipython3",
   "version": "3.6.3"
  }
 },
 "nbformat": 4,
 "nbformat_minor": 1
}
